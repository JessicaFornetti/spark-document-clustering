{
  "nbformat": 4,
  "nbformat_minor": 0,
  "metadata": {
    "colab": {
      "provenance": []
    },
    "kernelspec": {
      "name": "python3",
      "display_name": "Python 3"
    },
    "language_info": {
      "name": "python"
    }
  },
  "cells": [
    {
      "cell_type": "markdown",
      "source": [
        "#Project Big Data\n",
        "####Jessica FORNETTI"
      ],
      "metadata": {
        "id": "IkqluSeqgwT6"
      }
    },
    {
      "cell_type": "markdown",
      "source": [
        "### I) Mise en place de l’environnement de travail"
      ],
      "metadata": {
        "id": "A0qtgYTOs3Hn"
      }
    },
    {
      "cell_type": "markdown",
      "source": [
        "####Installation de Spark"
      ],
      "metadata": {
        "id": "_Q53fToEnBvg"
      }
    },
    {
      "cell_type": "code",
      "source": [
        "! apt-get update"
      ],
      "metadata": {
        "colab": {
          "base_uri": "https://localhost:8080/"
        },
        "id": "Lv7GkqKajz2C",
        "outputId": "6eb31592-e6a1-4c1f-8db3-dc0e30d3566d"
      },
      "execution_count": 1,
      "outputs": [
        {
          "output_type": "stream",
          "name": "stdout",
          "text": [
            "\r0% [Working]\r            \rHit:1 https://cloud.r-project.org/bin/linux/ubuntu focal-cran40/ InRelease\n",
            "\r0% [Waiting for headers] [Connecting to security.ubuntu.com (185.125.190.36)] [\r                                                                               \rHit:2 http://archive.ubuntu.com/ubuntu focal InRelease\n",
            "\r0% [Waiting for headers] [Connecting to security.ubuntu.com (185.125.190.36)] [\r                                                                               \rHit:3 http://archive.ubuntu.com/ubuntu focal-updates InRelease\n",
            "\r0% [Connecting to security.ubuntu.com (185.125.190.36)] [Waiting for headers] [\r                                                                               \rGet:4 http://archive.ubuntu.com/ubuntu focal-backports InRelease [108 kB]\n",
            "\r0% [4 InRelease 11.3 kB/108 kB 10%] [Connecting to security.ubuntu.com (185.125\r                                                                               \r0% [Waiting for headers] [Waiting for headers] [Waiting for headers]\r0% [Waiting for headers] [Waiting for headers] [Waiting for headers]\r                                                                    \rHit:5 http://ppa.launchpad.net/c2d4u.team/c2d4u4.0+/ubuntu focal InRelease\n",
            "\r0% [Waiting for headers] [Waiting for headers] [Connecting to ppa.launchpad.net\r                                                                               \rHit:6 http://security.ubuntu.com/ubuntu focal-security InRelease\n",
            "\r                                                                               \r0% [Waiting for headers] [Connecting to ppa.launchpad.net (185.125.190.52)]\r                                                                           \rIgn:7 https://developer.download.nvidia.com/compute/machine-learning/repos/ubuntu2004/x86_64  InRelease\n",
            "\r0% [Waiting for headers] [Connecting to ppa.launchpad.net (185.125.190.52)]\r                                                                           \rHit:8 https://developer.download.nvidia.com/compute/cuda/repos/ubuntu2004/x86_64  InRelease\n",
            "Hit:9 https://developer.download.nvidia.com/compute/machine-learning/repos/ubuntu2004/x86_64  Release\n",
            "Hit:10 http://ppa.launchpad.net/cran/libgit2/ubuntu focal InRelease\n",
            "Hit:11 http://ppa.launchpad.net/deadsnakes/ppa/ubuntu focal InRelease\n",
            "Hit:12 http://ppa.launchpad.net/graphics-drivers/ppa/ubuntu focal InRelease\n",
            "Hit:13 http://ppa.launchpad.net/ubuntugis/ppa/ubuntu focal InRelease\n",
            "Fetched 108 kB in 1s (82.2 kB/s)\n",
            "Reading package lists... Done\n"
          ]
        }
      ]
    },
    {
      "cell_type": "code",
      "source": [
        "! apt-get install openjdk-8-jdk-headless -qq > /dev/null"
      ],
      "metadata": {
        "id": "0jF-EwpOdBsw"
      },
      "execution_count": 2,
      "outputs": []
    },
    {
      "cell_type": "code",
      "source": [
        "! wget -q https://dlcdn.apache.org/spark/spark-3.3.2/spark-3.3.2-bin-hadoop3.tgz"
      ],
      "metadata": {
        "id": "nuY8183zdwGZ"
      },
      "execution_count": 3,
      "outputs": []
    },
    {
      "cell_type": "code",
      "source": [
        "! tar xf /content/spark-3.3.2-bin-hadoop3.tgz"
      ],
      "metadata": {
        "id": "PFNlGRtke8MC"
      },
      "execution_count": 4,
      "outputs": []
    },
    {
      "cell_type": "code",
      "source": [
        "! pip install -q findspark\n",
        "! pip install pyspark"
      ],
      "metadata": {
        "colab": {
          "base_uri": "https://localhost:8080/"
        },
        "id": "Rk8R6fJOfixz",
        "outputId": "7fe2000b-a925-4e62-b576-35ffa90254f2"
      },
      "execution_count": 5,
      "outputs": [
        {
          "output_type": "stream",
          "name": "stdout",
          "text": [
            "Looking in indexes: https://pypi.org/simple, https://us-python.pkg.dev/colab-wheels/public/simple/\n",
            "Requirement already satisfied: pyspark in /usr/local/lib/python3.8/dist-packages (3.3.2)\n",
            "Requirement already satisfied: py4j==0.10.9.5 in /usr/local/lib/python3.8/dist-packages (from pyspark) (0.10.9.5)\n"
          ]
        }
      ]
    },
    {
      "cell_type": "markdown",
      "source": [
        "####Création du SparkContext"
      ],
      "metadata": {
        "id": "i9zWgf_KqNvj"
      }
    },
    {
      "cell_type": "code",
      "source": [
        "# Set up required environment variables\n",
        "\n",
        "import os\n",
        "\n",
        "os.environ[\"JAVA_HOME\"] = \"/usr/lib/jvm/java-8-openjdk-amd64\"\n",
        "os.environ[\"SPARK_HOME\"] = \"/content/spark-3.3.1-bin-hadoop3\"\n",
        "os.environ[\"PYSPARK_SUBMIT_ARGS\"] = \"--packages org.apache.spark:spark-avro_2.11:2.4.5 pyspark-shell\"\n",
        "\n",
        "import findspark\n",
        "\n",
        "findspark.init(\"spark-3.3.2-bin-hadoop3\")\n",
        "\n",
        "\n",
        "from pyspark import SparkContext, SparkConf\n",
        "\n",
        "configuration = SparkConf().setAppName(\"project\").setMaster(\"local[4]\")\n",
        "sc = SparkContext(conf=configuration)"
      ],
      "metadata": {
        "id": "Br2PHVwdg5zh"
      },
      "execution_count": 6,
      "outputs": []
    },
    {
      "cell_type": "markdown",
      "source": [
        "####Création du SparkSession"
      ],
      "metadata": {
        "id": "NytI6SsHqceQ"
      }
    },
    {
      "cell_type": "code",
      "source": [
        "from pyspark.sql import SparkSession\n",
        "\n",
        "spark = SparkSession.builder.config(conf=configuration).getOrCreate()"
      ],
      "metadata": {
        "id": "oRi_Fe68keu8"
      },
      "execution_count": 7,
      "outputs": []
    },
    {
      "cell_type": "markdown",
      "source": [
        "###II) Les données"
      ],
      "metadata": {
        "id": "Lm7TujNEs_yH"
      }
    },
    {
      "cell_type": "markdown",
      "source": [
        "####Téléchargement des données\n"
      ],
      "metadata": {
        "id": "oua4ibgsq16P"
      }
    },
    {
      "cell_type": "code",
      "source": [
        "! wget -q http://qwone.com/~jason/20Newsgroups/20news-19997.tar.gz"
      ],
      "metadata": {
        "id": "9ncOOgzWq2p7"
      },
      "execution_count": 8,
      "outputs": []
    },
    {
      "cell_type": "markdown",
      "source": [
        "####Décompression des données\n"
      ],
      "metadata": {
        "id": "KTNee0ier9pg"
      }
    },
    {
      "cell_type": "code",
      "source": [
        "! tar xf /content/20news-19997.tar.gz"
      ],
      "metadata": {
        "id": "A4nzZW-prRFk"
      },
      "execution_count": 9,
      "outputs": []
    },
    {
      "cell_type": "markdown",
      "source": [
        "####Chargement des données dans deux RDDs"
      ],
      "metadata": {
        "id": "-KoprRputeQw"
      }
    },
    {
      "cell_type": "code",
      "source": [
        "rdd1 = sc.wholeTextFiles(\"/content/20_newsgroups/alt.atheism\")\n",
        "\n",
        "rdd2 = sc.wholeTextFiles(\"/content/20_newsgroups/rec.sport.baseball\")"
      ],
      "metadata": {
        "id": "BVOSs_QxtlvG"
      },
      "execution_count": 10,
      "outputs": []
    },
    {
      "cell_type": "markdown",
      "source": [
        "####Séparation du corps du message et de l’entête"
      ],
      "metadata": {
        "id": "WbH0UsD0PSgH"
      }
    },
    {
      "cell_type": "code",
      "source": [
        "def f(x):\n",
        "  a = x[0]\n",
        "  b = x[1].split(\"\\n\\n\", 1) #on fait le split uniquement sur la 1ere occurence de \\n\\n\n",
        "  return [a, b]\n",
        "\n",
        "\n",
        "rdd1 = rdd1.map(lambda x: list(x)).map(f)\n",
        "rdd1.first()"
      ],
      "metadata": {
        "colab": {
          "base_uri": "https://localhost:8080/"
        },
        "id": "4oqcZB78u-Pr",
        "outputId": "dd0f3b5a-4c23-45fa-dd77-fc778c80813d"
      },
      "execution_count": 11,
      "outputs": [
        {
          "output_type": "execute_result",
          "data": {
            "text/plain": [
              "['file:/content/20_newsgroups/alt.atheism/51169',\n",
              " ['Xref: cantaloupe.srv.cs.cmu.edu alt.atheism:51169 soc.motss:139998 rec.scouting:5327\\nNewsgroups: alt.atheism,soc.motss,rec.scouting\\nPath: cantaloupe.srv.cs.cmu.edu!rochester!cornell!batcomputer!caen!nic.umass.edu!umassd.edu!ulowell!ulowell.ulowell.edu!jvigneau\\nFrom: jvigneau@cs.ulowell.edu (Joe Vigneau)\\nSubject: Re: [soc.motss, et al.] \"Princeton axes matching funds for Boy Scouts\"\\nIn-Reply-To: bevans@carina.unm.edu\\'s message of 4 Apr 1993 12:19:20 GMT\\nMessage-ID: <JVIGNEAU.93Apr5182106@cs.ulowell.edu>\\nSender: usenet@ulowell.ulowell.edu (News manager - ulowell)\\nOrganization: -\\nReferences: <merlyn.733766717@digibd> <1pijfo$1l4@fido.asd.sgi.com>\\n\\t<1993Apr3.214557.24073@midway.uchicago.edu> <1pmjo8INN2l0@lynx.unm.edu>\\nDate: Mon, 5 Apr 1993 23:21:06 GMT\\nLines: 21',\n",
              "  \"In article <1pmjo8INN2l0@lynx.unm.edu> bevans@carina.unm.edu (Mathemagician) writes:\\n\\n   Just what do gay people do that straight people don't?\\n\\nAbsolutely nothing.\\n\\nI'm a VERY straight(as an arrow), 17-year old male that is involved in the BSA.\\n\\nI don't care what gay people do among each other, as long as they don't make\\npasses at me or anything.  At my summer camp where I work, my boss is gay.\\nNot in a 'pansy' way of gay (I know a few), but just 'one of the guys'.\\nHe doesn't push anything on me, and we give him the same respect back, due\\nto his position.\\n\\nIf anything, the BSA has taught me, I don't know, tolerance or something.\\nBefore I met this guy, I thought all gays were 'faries'.  So, the BSA HAS\\ntaught me to be an antibigot.\\n\\nBasically, It comes down to this: What you do among yourself is your own\\nbusiness. No one else has the right to tell you otherwise, unless it\\nviolates someone else's civil rights.\\n\"]]"
            ]
          },
          "metadata": {},
          "execution_count": 11
        }
      ]
    },
    {
      "cell_type": "code",
      "source": [
        "rdd2 = rdd2.map(lambda x: list(x)).map(f)\n",
        "rdd2.first()"
      ],
      "metadata": {
        "colab": {
          "base_uri": "https://localhost:8080/"
        },
        "id": "4fiG7cnfFoIV",
        "outputId": "4fb536e8-e7e5-43bb-c556-6e4021d466e9"
      },
      "execution_count": 12,
      "outputs": [
        {
          "output_type": "execute_result",
          "data": {
            "text/plain": [
              "['file:/content/20_newsgroups/rec.sport.baseball/102734',\n",
              " ['Path: cantaloupe.srv.cs.cmu.edu!das-news.harvard.edu!ogicse!network.ucsd.edu!usc!wupost!cs.uiuc.edu!pegasus.cs.uiuc.edu!steph\\nFrom: steph@pegasus.cs.uiuc.edu (Dale Stephenson)\\nNewsgroups: rec.sport.baseball\\nSubject: \"Seer\" Stephenson picks the A.L. East\\nSummary: The division has gone to the birds\\nKeywords: last chance for foolishness\\nMessage-ID: <steph.733989466@pegasus.cs.uiuc.edu>\\nDate: 5 Apr 93 05:57:46 GMT\\nArticle-I.D.: pegasus.steph.733989466\\nSender: news@cs.uiuc.edu\\nOrganization: University of Illinois, Dept. of Comp. Sci., Urbana, IL\\nLines: 95',\n",
              "  'Having run completely out of time, I\\'ve got to get my prophesies and\\npredictions for the A.L. out.  Qualifications -- one of the worse\\nfinishes in last year\\'s prediction contest.\\n\\nAL East -- 1993\\n\\n1.  Baltimore Orioles\\nWhy the Orioles?  Well, I pondered long and hard, and it all came down to\\nthis:\\n  -- The Blue Jays are going the wrong direction.\\n  -- Can\\'t bring myself to pick the Yankees\\n  -- Milwaukee was a fluke\\n  -- Indians aren\\'t ready to contend\\n  -- Red Sox were bad last year, and didn\\'t get any better\\n  -- Detroit\\'s pitching will be the new definition of \"replacement level\"\\n\"But you don\\'t really think the Orioles will win, do you.\"  No.  As a matter\\nof fact, I can\\'t see any team in the American League winning either division\\non paper (with the possible exception of the Yankees, who I hate).  But some-\\nbody has to win, so I pick the Orioles.  \"You don\\'t really think that Brady\\nAnderson is going to repeat, do you?\"  No.  I\\'m basing the Orioles prediction\\non the expectation of big years from Cal Ripken and Glenn Davis.  \"Glenn\\nDavis?  That\\'s insane\".  Yes.  So, without further ado:\\nSTRONG POINTS:  Hoiles, Ripken some years, Olson, getting rid of Billy Ripken.\\nWEAK POINTS:  Segui may start.  Valenzuela (the original 30-something) may be\\n  the fifth starter.  Oates puts his best hitters at the bottom of the lineup.\\n  (Does anybody else think that might be a calculated maneuver to minimize\\n  the effect of a slumping Ripken?  If you can\\'t move Ripken out of the #3\\n  spot, why not move the rest of the line up?)\\nWOULD BE A GOOD SIGN:  Glenn Davis wins comeback player of the year.\\nWOULD BE A BAD SIGN:  In a tight pennant race, team trades for Pecota.\\nObPrediction:  \"The Streak\" continues.  Harold Reynolds leads the team in\\n  caught stealing.\\n\\n2. New York Yankees.\\nSTRONG POINTS:  Abbot, Key, Perez.  Could have best pitching in American\\n  League.  Boggs should improve on Hayes.\\nWEAK POINTS:  Mattingly still considered best hitter.  The Steinbrenner \\n  factor.  (The Yankees lost to the Mets.  Can wholesale changes be far\\n  behind?)  Never count on rookie pitchers (i.e. Wickman & Millitello) to\\n  win a division.\\nWOULD BE A GOOD SIGN:  Boggs hits over .300\\nWOULD BE A BAD SIGN:  Howe gets arrested again.\\nObPrediction:  Mattingly won\\'t top a 700 OPS.\\n\\n3.  Toronto Blue Jays\\nSTRONG POINTS:  Management willing to make big deals.  Management has eerie\\n  power to convince other teams its prospects are not suspects.  Olerud.\\n  Guzman.  Alomar.\\nWEAK POINTS:  The Jackson for Bell trade has shaken my faith in Gillick.\\n  Losing Stewart may hurt rotation (that\\'s *really* a bad sign).  No one in\\n  the outfield can get on base.  Pitching is thin behind Guzman and Ward.\\nWOULD BE A GOOD SIGN:  Jack Morris considered Cy Young contender in August\\nWOULD BE A BAD SIGN:  Club makes no major deals in August.\\nObPrediction:  Morris will post better ERA and WHIP totals than last year.  And\\n  have a losing record.\\n\\n4.  Milwaukee Brewers\\nSTRONG POINTS:  Pitching staff was exceptional -- last year.\\nWEAK POINTS:  Molitor gone.  Surhoff at third?  Why?  Eldred can\\'t keep it up.\\nWOULD BE A GOOD SIGN:  Listach and Eldred play like last year.\\nWOULD BE BAD SIGN:  Bones plays like last year.\\nObPrediction:  Surhoff won\\'t finish the year at third.\\n\\n5.  Cleveland Indians\\nSTRONG POINTS:  Baerga, Belle, Nagy\\nWEAK POINTS:  Pitching staff thin -- losing Olin really hurts.  Starts Felix\\n  Fermin.\\nWOULD BE A GOOD SIGN:  Bielecki\\'s ERA is consistent with his Atlanta starts.\\nWOULD BE A BAD SIGN:  Ted Power -- bullpen ace.\\nObPrediction:  Alomar will be back on the DL by the all-star break.\\n\\n6.  Boston Red Sox\\nSTRONG POINTS:  Clemens, Viola, Clemens, Detroit, Clemens\\nWEAK POINTS:  Most incompetent GM in baseball.  Key free agent signing -- Andre\\n  Dawson.  Burks is gone -- Hatcher in center.\\nWOULD BE A GOOD SIGN:  Rainouts in between Clemens starts.\\nWOULD BE A BAD SIGN:  Clemens on the DL\\nObPrediction:  Russell will make Sox fans forget Reardon.  Interpret that how\\n  you will :->\\n\\n7.  Detroit Tigers\\nSTRONG POINTS:  Tettleton, Phillips, Whitaker\\nWEAK POINTS:  If Fielder keeps declining, he\\'ll be a shortstop this year.\\n  Worst rotation in baseball entirely replaced -- but not necessarily better.\\n  This year could be *very* ugly.\\nWOULD BE A GOOD SIGN:  Cecil Fielder deserving the MVP.\\nWOULD BE A BAD SIGN:  Cecil Fielder not whining about deserving an MVP.\\nObPrediction:  Cecil *won\\'t* lead the league in RBIs.\\n\\nOne more division to go....\\n-- \\nDale J. Stephenson |*| (steph@cs.uiuc.edu) |*| Baseball fanatic\\n\\n  \"It is considered good to look wise, especially when not \\n   overburdened with information\" -- J. Golden Kimball\\n']]"
            ]
          },
          "metadata": {},
          "execution_count": 12
        }
      ]
    },
    {
      "cell_type": "markdown",
      "source": [
        "####Extraction des champs organisation et catégorie\n",
        "\n"
      ],
      "metadata": {
        "id": "4ft_6bsxQTqV"
      }
    },
    {
      "cell_type": "markdown",
      "source": [
        "Les champs sont ajoutés a la fin de la liste.\n",
        "On a [filepath, [header, body], categorie, organisation]"
      ],
      "metadata": {
        "id": "Guc0TdR1Qx6W"
      }
    },
    {
      "cell_type": "code",
      "source": [
        "def SplitCategory(x):\n",
        "  a = x[1][0].split(\"Newsgroups:\", 1)\n",
        "  b = a[1].split(\"\\n\", 1)\n",
        "  x.append(b[0])\n",
        "  return x\n",
        "\n",
        "def SplitOrganization(x):\n",
        "  a = x[1][0].split(\"Organization:\", 1)\n",
        "\n",
        "  if(a == [x[1][0]]):\n",
        "    x.append(\"null\")  #il n'y a pas toujours un champs organisation \n",
        "  else:\n",
        "    b = a[1].split(\"\\n\", 1)\n",
        "    x.append(b[0])\n",
        "  \n",
        "  return x\n",
        "\n",
        "rdd1 = rdd1.map(SplitCategory).map(SplitOrganization)\n",
        "rdd1.take(5)"
      ],
      "metadata": {
        "colab": {
          "base_uri": "https://localhost:8080/"
        },
        "id": "mm_z8mFxQfQg",
        "outputId": "9b811f81-d5cd-47c7-bb25-f392e11c9d49"
      },
      "execution_count": 13,
      "outputs": [
        {
          "output_type": "execute_result",
          "data": {
            "text/plain": [
              "[['file:/content/20_newsgroups/alt.atheism/51169',\n",
              "  ['Xref: cantaloupe.srv.cs.cmu.edu alt.atheism:51169 soc.motss:139998 rec.scouting:5327\\nNewsgroups: alt.atheism,soc.motss,rec.scouting\\nPath: cantaloupe.srv.cs.cmu.edu!rochester!cornell!batcomputer!caen!nic.umass.edu!umassd.edu!ulowell!ulowell.ulowell.edu!jvigneau\\nFrom: jvigneau@cs.ulowell.edu (Joe Vigneau)\\nSubject: Re: [soc.motss, et al.] \"Princeton axes matching funds for Boy Scouts\"\\nIn-Reply-To: bevans@carina.unm.edu\\'s message of 4 Apr 1993 12:19:20 GMT\\nMessage-ID: <JVIGNEAU.93Apr5182106@cs.ulowell.edu>\\nSender: usenet@ulowell.ulowell.edu (News manager - ulowell)\\nOrganization: -\\nReferences: <merlyn.733766717@digibd> <1pijfo$1l4@fido.asd.sgi.com>\\n\\t<1993Apr3.214557.24073@midway.uchicago.edu> <1pmjo8INN2l0@lynx.unm.edu>\\nDate: Mon, 5 Apr 1993 23:21:06 GMT\\nLines: 21',\n",
              "   \"In article <1pmjo8INN2l0@lynx.unm.edu> bevans@carina.unm.edu (Mathemagician) writes:\\n\\n   Just what do gay people do that straight people don't?\\n\\nAbsolutely nothing.\\n\\nI'm a VERY straight(as an arrow), 17-year old male that is involved in the BSA.\\n\\nI don't care what gay people do among each other, as long as they don't make\\npasses at me or anything.  At my summer camp where I work, my boss is gay.\\nNot in a 'pansy' way of gay (I know a few), but just 'one of the guys'.\\nHe doesn't push anything on me, and we give him the same respect back, due\\nto his position.\\n\\nIf anything, the BSA has taught me, I don't know, tolerance or something.\\nBefore I met this guy, I thought all gays were 'faries'.  So, the BSA HAS\\ntaught me to be an antibigot.\\n\\nBasically, It comes down to this: What you do among yourself is your own\\nbusiness. No one else has the right to tell you otherwise, unless it\\nviolates someone else's civil rights.\\n\"],\n",
              "  ' alt.atheism,soc.motss,rec.scouting',\n",
              "  ' -'],\n",
              " ['file:/content/20_newsgroups/alt.atheism/51162',\n",
              "  ['Path: cantaloupe.srv.cs.cmu.edu!crabapple.srv.cs.cmu.edu!fs7.ece.cmu.edu!europa.eng.gtefsd.com!emory!sol.ctr.columbia.edu!usc!wupost!uunet!olivea!sgigate!sgiblab!adagio.panasonic.com!nntp-server.caltech.edu!keith\\nFrom: keith@cco.caltech.edu (Keith Allan Schneider)\\nNewsgroups: alt.atheism\\nSubject: Re: <Political Atheists?\\nMessage-ID: <1pin25INN1f4@gap.caltech.edu>\\nDate: 3 Apr 93 00:51:17 GMT\\nReferences: <1pcrjmINNr9e@gap.caltech.edu> <1993Apr1.092956.944@news.wesleyan.edu>\\nOrganization: California Institute of Technology, Pasadena\\nLines: 62\\nNNTP-Posting-Host: punisher.caltech.edu',\n",
              "   '(reference line trimmed)\\n\\nSSAUYET@eagle.wesleyan.edu (SCOTT D. SAUYET) writes:\\n\\n>First, I\\'ll make the assumption that you agree that a murderer is one\\n>who has commited murder.\\n\\nWell, I\\'d say that a murderer is one who intentionally committed a murder.\\nFor instance, if you put a bullet into a gun that was thought to contain\\nblanks, and someone was killed with such a gun, the person who actually\\nperformed the action isn\\'t the murderer (but I guess this is actually made\\nclear in the below definition).\\n\\n>I\\'d be interested to see a more reasonable definition. \\n\\nWhat do you mean by \"reasonable?\"\\n\\n>Otherwise, your inductive definition doesn\\'t bottom out:\\n>Your definition, in essence, is that\\n>>Murder is the intentional killing of someone who has not commited \\n>>murder, against his will.\\n>Expanding the second occurence of `murder\\' in the above, we see that\\n[...]\\n\\nYes, it is bad to include the word being defined in the definition.  But,\\neven though the series is recursively infinite, I think the meaning can\\nstill be deduced.\\n\\n>I assume you can see the problem here.  To do a correct inductive\\n>definition, you must define something in terms of a simpler case, and\\n>you must have one or several \"bottoming out\" cases.  For instance, we\\n>can define the factorial function (the function which assigns to a\\n>positive integer the product of the positive integers less than or\\n>equal to it) on the positive integers inductively as follows:\\n\\n[math lesson deleted]\\n\\nOkay, let\\'s look at this situation:  suppose there is a longstanding\\nfeud between two families which claim that the other committed some\\ntravesty in the distant past.  Each time a member of the one family\\nkills a member of the other, the other family thinks that it is justified\\nin killing a that member of the first family.  Now, let\\'s suppose that this\\nsequence has occurred an infinite number of times.  Or, if you don\\'t\\nlike dealing with infinities, suppose that one member of the family\\ngoes back into time and essentially begins the whole thing.  That is, there\\nis a never-ending loop of slayings based on some non-existent travesty.\\nHow do you resolve this?\\n\\nWell, they are all murders.\\n\\nNow, I suppose that this isn\\'t totally applicable to your \"problem,\" but\\nit still is possible to reduce an uninduced system.\\n\\nAnd, in any case, the nested \"murderer\" in the definition of murder\\ncannot be infintely recursive, given the finite existence of humanity.\\nAnd, a murder cannot be committed without a killing involved.  So, the\\nfirst person to intentionally cause someone to get killed is necessarily\\na murderer.  Is this enough of an induction to solve the apparently\\nunreducable definition?  See, in a totally objective system where all the\\ninformation is available, such a nested definition isn\\'t really a problem.\\n\\nkeith\\n'],\n",
              "  ' alt.atheism',\n",
              "  ' California Institute of Technology, Pasadena'],\n",
              " ['file:/content/20_newsgroups/alt.atheism/51224',\n",
              "  ['Xref: cantaloupe.srv.cs.cmu.edu alt.atheism:51224 soc.motss:140030 rec.scouting:5329\\nPath: cantaloupe.srv.cs.cmu.edu!das-news.harvard.edu!ogicse!uwm.edu!linac!att!att-out!cbnewsl!stank\\nFrom: stank@cbnewsl.cb.att.com (Stan Krieger)\\nNewsgroups: alt.atheism,soc.motss,rec.scouting\\nSubject: Re: [soc.motss, et al.] \"Princeton axes matching funds for Boy Scouts\"\\nMessage-ID: <1993Apr6.041343.24997@cbnewsl.cb.att.com>\\nDate: 6 Apr 93 04:13:43 GMT\\nArticle-I.D.: cbnewsl.1993Apr6.041343.24997\\nReferences: <1993Apr2.144544.19155@midway.uchicago.edu> <1pijbk$1l4@fido.asd.sgi.com> <1993Apr4.063009.7000@csus.edu>\\nOrganization: Summit NJ\\nLines: 39',\n",
              "   'student writes:\\n\\n>Somewhere, roger colin shouse writes about \"radical gay dogma.\"  Somewhere else\\n>he claims not to claim to have a claim to knowing those he doesn\\'t know.\\n>There are at least twenty instances of this kind of muddleheaded fourth-\\n>reich-sophistique shit in his postings.  Maybe more.  In fact I\\'m not sure\\n>the instances could be counted, because they reproduce like a virus the more\\n>you consider his words.\\n>\\tMy question is this: what is the best response to weasels like\\n>shouse and Stan Krieger?  Possibilities:\\n>\\t(a) study them dispassionately and figure out how they work, then\\n>(1) remember what you\\'ve learned so as to combat them when they or their clones\\n>get into office\\n>(2) contribute your insights to your favorite abnormal psych ward\\n>\\t(b) learn to overcome your repugnance for serial murder\\n\\nThis posting is totally uncalled for in rec.scouting.\\n\\nThe point has been raised and has been answered.  Roger and I have\\nclearly stated our support of the BSA position on the issue;\\nspecifically, that homosexual behavior constitutes a violation of\\nthe Scout Oath (specifically, the promise to live \"morally straight\").\\n\\nThere is really nothing else to discuss.  Trying to cloud the issue\\nwith comparisons to Blacks or other minorities is also meaningless\\nbecause it\\'s like comparing apples to oranges (i.e., people can\\'t\\ncontrol their race but they can control their behavior).\\n\\nWhat else is there to possibly discuss on rec.scouting on this issue?\\nNobody, including BSA, is denying anybody the right to live and/or\\nworship as they please or don\\'t please,  but it doesn\\'t mean that BSA\\nis the big bad wolf for adhering to the recognized, positive, religious\\nand moral standards on which our society has been established and on\\nwhich it should continue to be based.\\n-- \\nStan Krieger                 All opinions, advice, or suggestions, even\\nUNIX System Laboratories     if related to my employment, are my own.\\nSummit, NJ\\nsmk@usl.com\\n'],\n",
              "  ' alt.atheism,soc.motss,rec.scouting',\n",
              "  ' Summit NJ'],\n",
              " ['file:/content/20_newsgroups/alt.atheism/54184',\n",
              "  ['Xref: cantaloupe.srv.cs.cmu.edu alt.atheism:54184 talk.religion.misc:84370\\nPath: cantaloupe.srv.cs.cmu.edu!das-news.harvard.edu!noc.near.net!uunet!pipex!ibmpcug!mantis!news\\nFrom: mathew <mathew@mantis.co.uk>\\nNewsgroups: alt.atheism,talk.religion.misc\\nSubject: Re: Burden of Proof\\nMessage-ID: <930426.145628.3k5.rusnews.w165w@mantis.co.uk>\\nDate: Mon, 26 Apr 1993 14:56:28 +0100\\nReferences: <1993Apr21.182030.888@batman.bmd.trw.com> <kmr4.1665.735452531@po.CWRU.edu> <watson.735612508@mariner.sce.carleton.ca>\\nFollowup-To: alt.conspiracy\\nOrganization: Mantis Consultants, Cambridge. UK.\\nX-Newsreader: rusnews v1.02\\nLines: 20',\n",
              "   'watson@sce.carleton.ca (Stephen Watson) writes:\\n>kmr4@po.CWRU.edu (Keith M. Ryan) writes:\\n>>In article <healta.171.735538331@saturn.wwc.edu> healta@saturn.wwc.edu\\n>>(Tammy R Healy) writes:\\n>>>>        \"FBI officials said cult leader David Koresh may have \\n>>>>         forced followers to remain as flames closed in. Koresh\\'s \\n>>>>         armed guard may have injected as many as 24 children with \\n>>>>         poison to quiet them.\"\\n>>>>\\n>>>Do the FBI have proof of this yet?!\\n> \\n>>    Why ask me? I am only quoting the FBI official. Why not ask the FBI?\\n> \\n> Myabe they\\'re lying to cover up, or maybe they\\'re telling the truth.\\n\\nThe 24 children were, of course, killed by a lone gunman in a second story\\nwindow, who fired eight bullets in the space of two seconds...\\n\\n\\nmathew\\n'],\n",
              "  ' alt.atheism,talk.religion.misc',\n",
              "  ' Mantis Consultants, Cambridge. UK.'],\n",
              " ['file:/content/20_newsgroups/alt.atheism/51310',\n",
              "  ['Newsgroups: alt.atheism\\nPath: cantaloupe.srv.cs.cmu.edu!crabapple.srv.cs.cmu.edu!bb3.andrew.cmu.edu!news.sei.cmu.edu!cis.ohio-state.edu!zaphod.mps.ohio-state.edu!moe.ksu.ksu.edu!osuunx.ucc.okstate.edu!constellation!darkside!okcforum.osrhe.edu!bil\\nFrom: bil@okcforum.osrhe.edu (Bill Conner)\\nSubject: Re: Gospel Dating\\nMessage-ID: <C4vyFu.JJ6@darkside.osrhe.uoknor.edu>\\nSender: news@darkside.osrhe.uoknor.edu\\nNntp-Posting-Host: okcforum.osrhe.edu\\nOrganization: Okcforum Unix Users Group\\nX-Newsreader: TIN [version 1.1 PL6]\\nReferences: <kmr4.1370.733757319@po.CWRU.edu>\\nDate: Sat, 3 Apr 1993 02:19:05 GMT\\nLines: 16',\n",
              "   'Keith M. Ryan (kmr4@po.CWRU.edu) wrote:\\n: \\n: \\tWild and fanciful claims require greater evidence. If you state that \\n: one of the books in your room is blue, I certainly do not need as much \\n: evidence to believe than if you were to claim that there is a two headed \\n: leapard in your bed. [ and I don\\'t mean a male lover in a leotard! ]\\n\\nKeith, \\n\\nIf the issue is, \"What is Truth\" then the consequences of whatever\\nproposition argued is irrelevent. If the issue is, \"What are the consequences\\nif such and such -is- True\", then Truth is irrelevent. Which is it to\\nbe?\\n\\n\\nBill\\n'],\n",
              "  ' alt.atheism',\n",
              "  ' Okcforum Unix Users Group']]"
            ]
          },
          "metadata": {},
          "execution_count": 13
        }
      ]
    },
    {
      "cell_type": "code",
      "source": [
        "rdd2 = rdd2.map(SplitCategory).map(SplitOrganization)\n",
        "rdd2.take(5)"
      ],
      "metadata": {
        "colab": {
          "base_uri": "https://localhost:8080/"
        },
        "id": "pcbtgeJeQftq",
        "outputId": "b394daa1-78a8-4b5b-cbcd-2b9d53e18768"
      },
      "execution_count": 14,
      "outputs": [
        {
          "output_type": "execute_result",
          "data": {
            "text/plain": [
              "[['file:/content/20_newsgroups/rec.sport.baseball/102734',\n",
              "  ['Path: cantaloupe.srv.cs.cmu.edu!das-news.harvard.edu!ogicse!network.ucsd.edu!usc!wupost!cs.uiuc.edu!pegasus.cs.uiuc.edu!steph\\nFrom: steph@pegasus.cs.uiuc.edu (Dale Stephenson)\\nNewsgroups: rec.sport.baseball\\nSubject: \"Seer\" Stephenson picks the A.L. East\\nSummary: The division has gone to the birds\\nKeywords: last chance for foolishness\\nMessage-ID: <steph.733989466@pegasus.cs.uiuc.edu>\\nDate: 5 Apr 93 05:57:46 GMT\\nArticle-I.D.: pegasus.steph.733989466\\nSender: news@cs.uiuc.edu\\nOrganization: University of Illinois, Dept. of Comp. Sci., Urbana, IL\\nLines: 95',\n",
              "   'Having run completely out of time, I\\'ve got to get my prophesies and\\npredictions for the A.L. out.  Qualifications -- one of the worse\\nfinishes in last year\\'s prediction contest.\\n\\nAL East -- 1993\\n\\n1.  Baltimore Orioles\\nWhy the Orioles?  Well, I pondered long and hard, and it all came down to\\nthis:\\n  -- The Blue Jays are going the wrong direction.\\n  -- Can\\'t bring myself to pick the Yankees\\n  -- Milwaukee was a fluke\\n  -- Indians aren\\'t ready to contend\\n  -- Red Sox were bad last year, and didn\\'t get any better\\n  -- Detroit\\'s pitching will be the new definition of \"replacement level\"\\n\"But you don\\'t really think the Orioles will win, do you.\"  No.  As a matter\\nof fact, I can\\'t see any team in the American League winning either division\\non paper (with the possible exception of the Yankees, who I hate).  But some-\\nbody has to win, so I pick the Orioles.  \"You don\\'t really think that Brady\\nAnderson is going to repeat, do you?\"  No.  I\\'m basing the Orioles prediction\\non the expectation of big years from Cal Ripken and Glenn Davis.  \"Glenn\\nDavis?  That\\'s insane\".  Yes.  So, without further ado:\\nSTRONG POINTS:  Hoiles, Ripken some years, Olson, getting rid of Billy Ripken.\\nWEAK POINTS:  Segui may start.  Valenzuela (the original 30-something) may be\\n  the fifth starter.  Oates puts his best hitters at the bottom of the lineup.\\n  (Does anybody else think that might be a calculated maneuver to minimize\\n  the effect of a slumping Ripken?  If you can\\'t move Ripken out of the #3\\n  spot, why not move the rest of the line up?)\\nWOULD BE A GOOD SIGN:  Glenn Davis wins comeback player of the year.\\nWOULD BE A BAD SIGN:  In a tight pennant race, team trades for Pecota.\\nObPrediction:  \"The Streak\" continues.  Harold Reynolds leads the team in\\n  caught stealing.\\n\\n2. New York Yankees.\\nSTRONG POINTS:  Abbot, Key, Perez.  Could have best pitching in American\\n  League.  Boggs should improve on Hayes.\\nWEAK POINTS:  Mattingly still considered best hitter.  The Steinbrenner \\n  factor.  (The Yankees lost to the Mets.  Can wholesale changes be far\\n  behind?)  Never count on rookie pitchers (i.e. Wickman & Millitello) to\\n  win a division.\\nWOULD BE A GOOD SIGN:  Boggs hits over .300\\nWOULD BE A BAD SIGN:  Howe gets arrested again.\\nObPrediction:  Mattingly won\\'t top a 700 OPS.\\n\\n3.  Toronto Blue Jays\\nSTRONG POINTS:  Management willing to make big deals.  Management has eerie\\n  power to convince other teams its prospects are not suspects.  Olerud.\\n  Guzman.  Alomar.\\nWEAK POINTS:  The Jackson for Bell trade has shaken my faith in Gillick.\\n  Losing Stewart may hurt rotation (that\\'s *really* a bad sign).  No one in\\n  the outfield can get on base.  Pitching is thin behind Guzman and Ward.\\nWOULD BE A GOOD SIGN:  Jack Morris considered Cy Young contender in August\\nWOULD BE A BAD SIGN:  Club makes no major deals in August.\\nObPrediction:  Morris will post better ERA and WHIP totals than last year.  And\\n  have a losing record.\\n\\n4.  Milwaukee Brewers\\nSTRONG POINTS:  Pitching staff was exceptional -- last year.\\nWEAK POINTS:  Molitor gone.  Surhoff at third?  Why?  Eldred can\\'t keep it up.\\nWOULD BE A GOOD SIGN:  Listach and Eldred play like last year.\\nWOULD BE BAD SIGN:  Bones plays like last year.\\nObPrediction:  Surhoff won\\'t finish the year at third.\\n\\n5.  Cleveland Indians\\nSTRONG POINTS:  Baerga, Belle, Nagy\\nWEAK POINTS:  Pitching staff thin -- losing Olin really hurts.  Starts Felix\\n  Fermin.\\nWOULD BE A GOOD SIGN:  Bielecki\\'s ERA is consistent with his Atlanta starts.\\nWOULD BE A BAD SIGN:  Ted Power -- bullpen ace.\\nObPrediction:  Alomar will be back on the DL by the all-star break.\\n\\n6.  Boston Red Sox\\nSTRONG POINTS:  Clemens, Viola, Clemens, Detroit, Clemens\\nWEAK POINTS:  Most incompetent GM in baseball.  Key free agent signing -- Andre\\n  Dawson.  Burks is gone -- Hatcher in center.\\nWOULD BE A GOOD SIGN:  Rainouts in between Clemens starts.\\nWOULD BE A BAD SIGN:  Clemens on the DL\\nObPrediction:  Russell will make Sox fans forget Reardon.  Interpret that how\\n  you will :->\\n\\n7.  Detroit Tigers\\nSTRONG POINTS:  Tettleton, Phillips, Whitaker\\nWEAK POINTS:  If Fielder keeps declining, he\\'ll be a shortstop this year.\\n  Worst rotation in baseball entirely replaced -- but not necessarily better.\\n  This year could be *very* ugly.\\nWOULD BE A GOOD SIGN:  Cecil Fielder deserving the MVP.\\nWOULD BE A BAD SIGN:  Cecil Fielder not whining about deserving an MVP.\\nObPrediction:  Cecil *won\\'t* lead the league in RBIs.\\n\\nOne more division to go....\\n-- \\nDale J. Stephenson |*| (steph@cs.uiuc.edu) |*| Baseball fanatic\\n\\n  \"It is considered good to look wise, especially when not \\n   overburdened with information\" -- J. Golden Kimball\\n'],\n",
              "  ' rec.sport.baseball',\n",
              "  ' University of Illinois, Dept. of Comp. Sci., Urbana, IL'],\n",
              " ['file:/content/20_newsgroups/rec.sport.baseball/104758',\n",
              "  [\"Newsgroups: rec.sport.baseball\\nPath: cantaloupe.srv.cs.cmu.edu!crabapple.srv.cs.cmu.edu!bb3.andrew.cmu.edu!news.sei.cmu.edu!fs7.ece.cmu.edu!europa.eng.gtefsd.com!howland.reston.ans.net!zaphod.mps.ohio-state.edu!malgudi.oar.net!news.ans.net!newsgate.watson.ibm.com!yktnews.watson.ibm.com!hawnews.watson.ibm.com!fenway!mjones\\nFrom: mjones@watson.ibm.com (Mike Jones)\\nSubject: Re: Bonilla\\nSender: news@hawnews.watson.ibm.com (NNTP News Poster)\\nMessage-ID: <mjones.735273896@fenway>\\nDate: Tue, 20 Apr 1993 02:44:56 GMT\\nReply-To: mjones@donald.aix.kingston.ibm.com\\nDisclaimer: This posting represents the poster's views, not necessarily those of IBM.\\nReferences: <1993Apr16.161959.21006@ra.msstate.edu> <C5LILH.GtK@usenet.ucs.indiana.edu> <1993Apr17.213553.2181@organpipe.uug.arizona.edu> <1993Apr18.204643.4404@Princeton.EDU> <13521@news.duke.edu>\\nNntp-Posting-Host: fenway.aix.kingston.ibm.com\\nOrganization: IBM AIX/ESA Development, Kingston NY\\nLines: 41\",\n",
              "   \"fierkelab@bchm.biochem.duke.edu (Eric Roush) writes:\\n>>>All of these divisions based on race, religion, etc. make me sick.\\n>>As they should.  Isn't it nice that MLB is finally waking up to\\n>>their existence?  Isn't it a shame that hiring practices, on and off\\n>>the field, have been discriminatory for so long?  (Quick: name a\\n>>light-hitting black outfielder or 1B who lasted 10+ years in the bigs.\\n>>I bet you can name two dozen white ones.)\\n>Otis Nixon.\\n>Darnell Coles\\n>Henry Cotto\\n\\nManny Mota.\\nBilly Hatcher\\nHerm Winningham.\\nLonnie Smith (not light hitting, but a horror in the field)\\nGary Redus\\nDion James\\nDaryl Boston\\nVince Coleman (yeah, he's finally started to have a decent OBP)\\nCecil Espy\\nWillie Wilson\\nGary Pettis\\nMilt Thompson\\nGary Varsho\\n\\nOK, I admit to taking a quick browse through the Major League Handbook, but\\nonly after the first 7 or 8. Oh, and there's the all-time light-hitting\\nblack outfielder: Lou Brock. Look it up. And Curt Flood. Cesar Geronimo.\\nCesar Cedeno. \\n\\n>Note:  These guys may not have reached 10 years yet, but they've got\\n>to be close.\\n\\nLikewise for my list. Oh, and a prediction: Milt Cuyler.\\n\\n Mike Jones | AIX High-End Development | mjones@donald.aix.kingston.ibm.com\\n\\nYou know the great thing about TV?  If something important happens anywhere\\nat all in the world, no matter what time of the day or night, you can always\\nchange the channel.\\n\\t- Jim Ignatowski\\n\"],\n",
              "  ' rec.sport.baseball',\n",
              "  ' IBM AIX/ESA Development, Kingston NY'],\n",
              " ['file:/content/20_newsgroups/rec.sport.baseball/104952',\n",
              "  ['Newsgroups: rec.sport.baseball\\nPath: cantaloupe.srv.cs.cmu.edu!das-news.harvard.edu!noc.near.net!howland.reston.ans.net!ux1.cso.uiuc.edu!news.cso.uiuc.edu!uxa.cso.uiuc.edu!rap50204\\nFrom: rap50204@uxa.cso.uiuc.edu (Underdog )\\nSubject: Southpaw?\\nDate: Fri, 23 Apr 1993 16:52:42 GMT\\nMessage-ID: <C5y47u.9IJ@news.cso.uiuc.edu>\\nSender: usenet@news.cso.uiuc.edu (Net Noise owner)\\nOrganization: University of Illinois at Urbana\\nLines: 15',\n",
              "   '\\n\\nCan anyone out there tell me why they call left-handed pitchers\\n\"Southpaw\"?\\n\\nAlso the story on how the term originated.\\n\\nThanks!! \\n\\n\\nGo Cubs! \\n\\nPrediction: They will finish over .500 this year without winning the East.\\n\\n\\n'],\n",
              "  ' rec.sport.baseball',\n",
              "  ' University of Illinois at Urbana'],\n",
              " ['file:/content/20_newsgroups/rec.sport.baseball/102597',\n",
              "  ['Newsgroups: rec.sport.baseball\\nPath: cantaloupe.srv.cs.cmu.edu!crabapple.srv.cs.cmu.edu!fs7.ece.cmu.edu!europa.eng.gtefsd.com!gatech!news-feed-1.peachnet.edu!umn.edu!x239-16.psych.umn.edu!khansen\\nFrom: khansen@staff.tc.umn.edu (Kevin Hansen)\\nSubject: Re: Scott Erickson\\nMessage-ID: <khansen.15.734037238@staff.tc.umn.edu>\\nSender: news@news2.cis.umn.edu (Usenet News Administration)\\nNntp-Posting-Host: x239-16.psych.umn.edu\\nOrganization: Minnesota Twin Family Study - Univerity of Minnesota\\nReferences: <12718@news.duke.edu>\\nDate: Mon, 5 Apr 1993 19:13:58 GMT\\nLines: 38',\n",
              "   'In article <12718@news.duke.edu> fierkelab@bchm.biochem.duke.edu (Eric Roush) writes:\\n>Path: news1.cis.umn.edu!umn.edu!news-feed-1.peachnet.edu!gatech!concert!duke!news.duke.edu!bchm.biochem.duke.edu\\n>From: fierkelab@bchm.biochem.duke.edu (Eric Roush)\\n>Newsgroups: rec.sport.baseball\\n>Subject: Scott Erickson\\n>Message-ID: <12718@news.duke.edu>\\n>Date: 5 Apr 93 18:21:18 GMT\\n>Sender: news@news.duke.edu\\n>Organization: Biochemistry\\n>Lines: 13\\n>Nntp-Posting-Host: bruchner.biochem.duke.edu\\n>USA Today reports that he may be going on the DL\\n>(arm pains of an unspecified nature).\\n>\\n>Further news would be appreciated.\\n>\\n>\\n>-------------------------------------------------------\\n>Eric Roush\\t\\tfierkelab@\\tbchm.biochem.duke.edu\\n>\"I am a Marxist, of the Groucho sort\"\\n>Grafitti, Paris, 1968\\n>\\n>TANSTAAFL! (although the Internet comes close.)\\n>--------------------------------------------------------\\n\\nErickson did go on the 15 day DL with a pulled muscle in his left side (near \\nrib cage).  He is on until 4/18/93.\\n\\nNo news as to who the Twins will bring up.\\n----------------------------------------------\\nKevin Hansen\\nMN Twin Family Study - University of Minnesota\\n(612)626-7224\\nkhansen@staff.tc.umn.edu\\n----------------------------------------------\\nContact: University of Minnesota Women\\'s Basketball\\n\\n\"Theory guides, experiment decides\" - Izaak M. Kolthoff\\n'],\n",
              "  ' rec.sport.baseball',\n",
              "  ' Minnesota Twin Family Study - Univerity of Minnesota'],\n",
              " ['file:/content/20_newsgroups/rec.sport.baseball/104454',\n",
              "  [\"Path: cantaloupe.srv.cs.cmu.edu!das-news.harvard.edu!noc.near.net!howland.reston.ans.net!spool.mu.edu!nigel.msen.com!yale.edu!yale!not-for-mail\\nFrom: shapiro-david@yale.edu (David Shapiro)\\nNewsgroups: rec.sport.baseball\\nSubject: Re: And America's Team is....But Why?\\nDate: 18 Apr 1993 22:26:09 -0400\\nOrganization: What, me organized?\\nLines: 21\\nDistribution: na\\nMessage-ID: <1qt2k1INNblt@MINERVA.CIS.YALE.EDU>\\nReferences: <kingoz.735066879@camelot> <C5p3yr.GH2@news.cso.uiuc.edu>\\n\\t<C5p6xq.GuI@me.utoronto.ca>\\nNNTP-Posting-Host: minerva.cis.yale.edu\\nIn-reply-to: steinman@me.utoronto.ca's message of Sun, 18 Apr 1993 21:13:02 GMT\",\n",
              "   'In article <C5p6xq.GuI@me.utoronto.ca> steinman@me.utoronto.ca (David Steinman) writes:\\n\\n   cka52397@uxa.cso.uiuc.edu (OrioleFan@uiuc) writes:\\n\\n   >\\tThe defenition of the Underdog is a team that has no talent and comes\\n   >out of nowhere to contend.  The \\'69 Mets and \\'89 Orioles are prime examples,\\n   >not the Cubs. \\n\\n   Sorry, but it is *virtually* impossible to win a division with \"no talent\"\\n   over 162 games.\\n\\nWell, with players, certainly.  However, it is quite possible to win\\nit all with no managerial talent.  Cf. Blue Jays, 1992.\\n\\nDavid\\n\\n-------------------------------------------------------------------------------\\nDavid Shapiro\\t\\t\\t| \"People can call it a monkey, but I felt like\\nshapiro-david@yale.edu\\t\\t| I had a piano on my back all winter long....\\nshapiro@minerva.cis.yale.edu\\t| The piano is off my back.  Maybe a trombone\\n\\t\\t\\t\\t| will be next.\"  -- Stan Belinda\\n'],\n",
              "  ' rec.sport.baseball',\n",
              "  ' What, me organized?']]"
            ]
          },
          "metadata": {},
          "execution_count": 14
        }
      ]
    },
    {
      "cell_type": "markdown",
      "source": [
        "####Fusion des deux RDDs\n"
      ],
      "metadata": {
        "id": "f7TvNl73WipG"
      }
    },
    {
      "cell_type": "code",
      "source": [
        "rdd = rdd1.union(rdd2)\n",
        "#rdd.first()\n",
        "#rdd.take(50)\n",
        "rdd.count()"
      ],
      "metadata": {
        "colab": {
          "base_uri": "https://localhost:8080/"
        },
        "id": "LRsvkNPZQf0-",
        "outputId": "37a7a18c-e7de-4567-dbc6-513110ee0f65"
      },
      "execution_count": 15,
      "outputs": [
        {
          "output_type": "execute_result",
          "data": {
            "text/plain": [
              "2000"
            ]
          },
          "metadata": {},
          "execution_count": 15
        }
      ]
    },
    {
      "cell_type": "markdown",
      "source": [
        "####On rajoute les champs Date, Subject et Lines\n",
        "\n",
        "####De plus, pour faciliter la conversion de chaque élément en pyspark.sql.Row, on ajoute chque champs a la suite dans une liste simple :     [filepath, header, body, categorie, organisation, date, sujet, lines] "
      ],
      "metadata": {
        "id": "6KRc74fcOlVB"
      }
    },
    {
      "cell_type": "code",
      "source": [
        "rdd1 = sc.wholeTextFiles(\"/content/20_newsgroups/alt.atheism\")\n",
        "rdd2 = sc.wholeTextFiles(\"/content/20_newsgroups/rec.sport.baseball\")\n",
        "\n",
        "def f(x):\n",
        "  a = x[0]\n",
        "  b = x[1].split(\"\\n\\n\", 1) #on fait le split uniquement sur la 1ere occurence de \\n\\n\n",
        "  return [a, b[0], b[1]]\n",
        "\n",
        "def SplitCategory(x):\n",
        "  a = x[1].split(\"Newsgroups:\", 1)\n",
        "  b = a[1].split(\"\\n\", 1)\n",
        "  x.append(b[0])\n",
        "  return x\n",
        "\n",
        "def SplitOrganization(x):\n",
        "  a = x[1].split(\"Organization:\", 1)\n",
        "\n",
        "  if(a == [x[1]]):\n",
        "    x.append(\"null\") #il n'y a pas toujours un champs organisation\n",
        "  else:\n",
        "    b = a[1].split(\"\\n\", 1)\n",
        "    x.append(b[0])\n",
        "  \n",
        "  return x\n",
        "\n",
        "def SplitDate(x):\n",
        "  a = x[1].split(\"Date:\", 1)\n",
        "\n",
        "  if(a == [x[1]]):\n",
        "    x.append(\"null\")\n",
        "  else:\n",
        "    b = a[1].split(\"\\n\", 1)\n",
        "    x.append(b[0])\n",
        "  \n",
        "  return x\n",
        "\n",
        "def SplitSubject(x):\n",
        "  a = x[1].split(\"Subject:\", 1)\n",
        "\n",
        "  if(a == [x[1]]):\n",
        "   x.append(\"null\")\n",
        "  else:\n",
        "    b = a[1].split(\"\\n\", 1)\n",
        "    x.append(b[0])\n",
        "  \n",
        "  return x\n",
        "\n",
        "def SplitLines(x):\n",
        "  a = x[1].split(\"Lines:\", 1)\n",
        "\n",
        "  if(a == [x[1]]):\n",
        "   x.append(\"null\")\n",
        "  else:\n",
        "    b = a[1].split(\"\\n\", 1)\n",
        "    x.append(b[0])\n",
        "  \n",
        "  return x\n",
        "\n",
        "rdd1 = rdd1.map(lambda x: list(x)).map(f).map(SplitCategory).map(SplitOrganization).map(SplitDate).map(SplitSubject).map(SplitLines)\n",
        "rdd2 = rdd2.map(lambda x: list(x)).map(f).map(SplitCategory).map(SplitOrganization).map(SplitDate).map(SplitSubject).map(SplitLines)\n",
        "\n",
        "rdd = rdd1.union(rdd2)\n",
        "#rdd.take(5)\n",
        "rdd.count()"
      ],
      "metadata": {
        "id": "uWRQ_n2xNws9",
        "colab": {
          "base_uri": "https://localhost:8080/"
        },
        "outputId": "6eb615f3-b902-4638-889a-1c6633ab7e89"
      },
      "execution_count": 16,
      "outputs": [
        {
          "output_type": "execute_result",
          "data": {
            "text/plain": [
              "2000"
            ]
          },
          "metadata": {},
          "execution_count": 16
        }
      ]
    },
    {
      "cell_type": "markdown",
      "source": [
        "####Création de l'objet de type DataFrame à partir du RDD précédent\n"
      ],
      "metadata": {
        "id": "SVcx1QcvSDux"
      }
    },
    {
      "cell_type": "code",
      "source": [
        "rdd = rdd.map(lambda x : tuple(x))\n",
        "\n",
        "columns = [\"file_id\", \"header\", \"body\", \"category\", \"organization\", \"date\", \"subject\", \"nbLines\"]\n",
        "df = spark.createDataFrame(data=rdd, schema = columns)\n",
        "\n",
        "#df.printSchema()\n",
        "#df.show(truncate=False) #pour voir la totalite de chaque champs\n",
        "df.show()"
      ],
      "metadata": {
        "colab": {
          "base_uri": "https://localhost:8080/"
        },
        "id": "0TLJ7b-kQIqh",
        "outputId": "08fe28aa-ca5d-47b1-e47c-b018d25ce454"
      },
      "execution_count": 17,
      "outputs": [
        {
          "output_type": "stream",
          "name": "stdout",
          "text": [
            "+--------------------+--------------------+--------------------+--------------------+--------------------+--------------------+--------------------+-------+\n",
            "|             file_id|              header|                body|            category|        organization|                date|             subject|nbLines|\n",
            "+--------------------+--------------------+--------------------+--------------------+--------------------+--------------------+--------------------+-------+\n",
            "|file:/content/20_...|Xref: cantaloupe....|In article <1pmjo...| alt.atheism,soc....|                   -| Mon, 5 Apr 1993 ...| Re: [soc.motss, ...|     21|\n",
            "|file:/content/20_...|Path: cantaloupe....|(reference line t...|         alt.atheism| California Insti...| 3 Apr 93 00:51:1...| Re: <Political A...|     62|\n",
            "|file:/content/20_...|Xref: cantaloupe....|student writes:\\n...| alt.atheism,soc....|           Summit NJ| 6 Apr 93 04:13:4...| Re: [soc.motss, ...|     39|\n",
            "|file:/content/20_...|Xref: cantaloupe....|watson@sce.carlet...| alt.atheism,talk...| Mantis Consultan...| Mon, 26 Apr 1993...| Re: Burden of Proof|     20|\n",
            "|file:/content/20_...|Newsgroups: alt.a...|Keith M. Ryan (km...|         alt.atheism| Okcforum Unix Us...| Sat, 3 Apr 1993 ...|   Re: Gospel Dating|     16|\n",
            "|file:/content/20_...|Xref: cantaloupe....|-*-----\\nIn artic...| alt.atheism,talk...| CS Dept, Univers...| 23 Apr 1993 13:2...| Ancient referenc...|     28|\n",
            "|file:/content/20_...|Newsgroups: alt.a...|bil@okcforum.osrh...|         alt.atheism| Society for Putt...| Fri, 23 Apr 1993...| Re: free moral a...|     20|\n",
            "|file:/content/20_...|Path: cantaloupe....|In article <1qlb7...|         alt.atheism| Boston Universit...| 17 Apr 93 16:22:...| Re: The Inimitab...|     27|\n",
            "|file:/content/20_...|Path: cantaloupe....|In article <1993A...|         alt.atheism| Case Western Res...| Tue, 6 Apr 1993 ...|   Re: Gospel Dating|     26|\n",
            "|file:/content/20_...|Xref: cantaloupe....|---\\n[I'm taking ...| talk.abortion,al...|        SGI TechPubs| Fri, 23 Apr 93 2...| Re: After 2000 y...|     23|\n",
            "|file:/content/20_...|Path: cantaloupe....|\\nacooper@mac.cc....|         alt.atheism| Computing Labora...| 23 Apr 93 16:39:...| Re: Christian Mo...|     41|\n",
            "|file:/content/20_...|Path: cantaloupe....|In article <1993A...|         alt.atheism| Boston Universit...| 16 Apr 93 01:50:...| Re: Yet more Rus...|     16|\n",
            "|file:/content/20_...|Path: cantaloupe....|arromdee@jyusenky...|         alt.atheism| California Insti...| 16 Apr 1993 02:4...|   Re: <<Pompous ass|     28|\n",
            "|file:/content/20_...|Newsgroups: alt.a...|In article <4963@...|         alt.atheism| I didn't do it, ...| Thu, 22 Apr 1993...| Re: Christian Mo...|     47|\n",
            "|file:/content/20_...|Path: cantaloupe....|[reply to frank@D...|         alt.atheism| University of Wi...| 15 Apr 93 19:33:...| Re: After 2000 y...|     38|\n",
            "|file:/content/20_...|Path: cantaloupe....|In article <1qlef...|         alt.atheism|                 sgi| 16 Apr 1993 05:4...|   Re: <<Pompous ass|     20|\n",
            "|file:/content/20_...|Newsgroups: alt.a...|\\nCould you expla...|         alt.atheism| Okcforum Unix Us...| Sun, 4 Apr 1993 ...|    Re: Bill Conner:|      6|\n",
            "|file:/content/20_...|Xref: cantaloupe....|In article <C61H4...| sci.skeptic,alt....| UC Davis Dept of...| 26 Apr 1993 17:4...|    Re: Asimov stamp|     18|\n",
            "|file:/content/20_...|Xref: cantaloupe....|In article <C62B7...| alt.atheism,talk...| Express Access O...| 26 Apr 1993 09:0...| Re: Ancient refe...|     15|\n",
            "|file:/content/20_...|Path: cantaloupe....|      One thing I...|         alt.atheism| Penn State Unive...| Thu, 15 Apr 1993...|      Why the bible?|     38|\n",
            "+--------------------+--------------------+--------------------+--------------------+--------------------+--------------------+--------------------+-------+\n",
            "only showing top 20 rows\n",
            "\n"
          ]
        }
      ]
    },
    {
      "cell_type": "markdown",
      "source": [
        "###III) Analyse descriptive"
      ],
      "metadata": {
        "id": "5cUbJ1wXtTWL"
      }
    },
    {
      "cell_type": "markdown",
      "source": [
        "####Vérification qu’on a bien deux catégories différentes de documents"
      ],
      "metadata": {
        "id": "6KUge1Mzselz"
      }
    },
    {
      "cell_type": "code",
      "source": [
        "from pyspark.sql.functions import sum, col, desc, mean, min, max\n",
        "\n",
        "df.groupBy(\"category\").count().sort(desc(\"count\")).show(37, truncate=False)\n"
      ],
      "metadata": {
        "colab": {
          "base_uri": "https://localhost:8080/"
        },
        "id": "KJHSyjWusfv7",
        "outputId": "2071b06e-8c98-41dd-89a0-945091de7b1c"
      },
      "execution_count": 18,
      "outputs": [
        {
          "output_type": "stream",
          "name": "stdout",
          "text": [
            "+---------------------------------------------------------------------------------+-----+\n",
            "|category                                                                         |count|\n",
            "+---------------------------------------------------------------------------------+-----+\n",
            "| rec.sport.baseball                                                              |981  |\n",
            "| alt.atheism                                                                     |734  |\n",
            "| talk.abortion,alt.atheism,talk.religion.misc                                    |94   |\n",
            "| alt.atheism,talk.religion.misc,talk.origins                                     |92   |\n",
            "| alt.atheism,talk.religion.misc                                                  |20   |\n",
            "| alt.atheism,soc.motss,rec.scouting                                              |8    |\n",
            "| sci.skeptic,alt.atheism                                                         |7    |\n",
            "| alt.atheism,alt.atheism.moderated,news.answers,alt.answers                      |7    |\n",
            "| rec.sport.baseball,soc.culture.jewish                                           |5    |\n",
            "| alt.atheism,talk.origins                                                        |5    |\n",
            "| talk.religion.misc,alt.atheism                                                  |4    |\n",
            "| talk.religion.misc,talk.abortion,alt.atheism                                    |4    |\n",
            "| alt.atheism,rec.scouting                                                        |3    |\n",
            "| alt.atheism,talk.origins,talk.philosophy.misc                                   |3    |\n",
            "| rec.sport.baseball,rec.sport.baseball.fantasy                                   |3    |\n",
            "| alt.atheism,alt.politics.usa.constitution                                       |2    |\n",
            "| alt.atheism,talk.bizarre                                                        |2    |\n",
            "| rec.sport.baseball.fantasy,rec.sport.baseball                                   |2    |\n",
            "| alt.drugs,alt.atheism                                                           |2    |\n",
            "| rec.sport.baseball,soc.culture.japan                                            |2    |\n",
            "| talk.religion.misc,alt.atheism,alt.pagan                                        |2    |\n",
            "| soc.culture.arabic,soc.culture.pakistan,soc.culture.turkish,alt.atheism         |2    |\n",
            "| alt.atheism,soc.culture.arabic                                                  |2    |\n",
            "| talk.abortion,alt.atheism,talk.religion.misc,sci.physics                        |1    |\n",
            "| soc.culture.canada,rec.humor,rec.sport.baseball                                 |1    |\n",
            "| alt.slack,talk.religion.misc,alt.atheism,alt.pagan,alt.sales.fundada,alt.preciou|1    |\n",
            "| rec.sport.baseball,rec.sport.basketball.pro                                     |1    |\n",
            "| alt.atheism,soc.culture.arabic,soc.culture.pakistan,soc.culture.turkish         |1    |\n",
            "| alt.atheism,alt.flame                                                           |1    |\n",
            "| rec.collecting.cards,rec.sport.baseball,rec.sport.baseball.fantasy              |1    |\n",
            "| rec.sport.baseball,rec.sport.basketball.college                                 |1    |\n",
            "| rec.scouting,soc.motss,alt.atheism                                              |1    |\n",
            "| alt.atheism,talk.origins,talk.religion.misc                                     |1    |\n",
            "| soc.culture.arabic,soc.culture.turkish,soc.culture.pakistan,alt.atheism         |1    |\n",
            "| rec.sport.baseball,alt.binaries.pictures.d                                      |1    |\n",
            "|   rec.sport.baseball,rec.sport.baseball.fantasy                                 |1    |\n",
            "| rec.sport.baseball,us.sport.baseball                                            |1    |\n",
            "+---------------------------------------------------------------------------------+-----+\n",
            "\n"
          ]
        }
      ]
    },
    {
      "cell_type": "markdown",
      "source": [
        "On voit que les 2 catégories les plus fréquentes sont rec.sport.baseball et alt.atheism. Comme certain documents appartiennent à plusieurs categories différentes en même temps, on peut considerer qu'il y a uniquement 2 catégories "
      ],
      "metadata": {
        "id": "dkl79KqYep7y"
      }
    },
    {
      "cell_type": "code",
      "source": [
        "df.filter(col(\"category\").contains(\"alt.atheism\")).count()"
      ],
      "metadata": {
        "colab": {
          "base_uri": "https://localhost:8080/"
        },
        "id": "rRuX2K_1fGLS",
        "outputId": "04f8f95e-851a-4553-a53f-2c30baf6b134"
      },
      "execution_count": 19,
      "outputs": [
        {
          "output_type": "execute_result",
          "data": {
            "text/plain": [
              "1000"
            ]
          },
          "metadata": {},
          "execution_count": 19
        }
      ]
    },
    {
      "cell_type": "code",
      "source": [
        "df.filter(col(\"category\").contains(\"rec.sport.baseball\")).count()"
      ],
      "metadata": {
        "colab": {
          "base_uri": "https://localhost:8080/"
        },
        "id": "cjBoXxbjfWmQ",
        "outputId": "4df6af7a-479a-4f48-e615-aff145e03601"
      },
      "execution_count": 20,
      "outputs": [
        {
          "output_type": "execute_result",
          "data": {
            "text/plain": [
              "1000"
            ]
          },
          "metadata": {},
          "execution_count": 20
        }
      ]
    },
    {
      "cell_type": "markdown",
      "source": [
        "(On retrouve bien 2000, le nombre total de documents dans la collection)"
      ],
      "metadata": {
        "id": "wQmvQut5kWm_"
      }
    },
    {
      "cell_type": "markdown",
      "source": [
        "####Nombre d'organisations différentes"
      ],
      "metadata": {
        "id": "V5_8KwpPuQwB"
      }
    },
    {
      "cell_type": "code",
      "source": [
        "#On a les 50 premieres organisations différentes rangées dans l'ordre décroissant\n",
        "df.groupBy(\"organization\").count().sort(desc(\"count\")).show(50, truncate=False) "
      ],
      "metadata": {
        "colab": {
          "base_uri": "https://localhost:8080/"
        },
        "id": "pSIkP-qA_LY_",
        "outputId": "efaf3231-66e5-437b-f160-4f21675316ef"
      },
      "execution_count": 21,
      "outputs": [
        {
          "output_type": "stream",
          "name": "stdout",
          "text": [
            "+-------------------------------------------------------------------------------+-----+\n",
            "|organization                                                                   |count|\n",
            "+-------------------------------------------------------------------------------+-----+\n",
            "| sgi                                                                           |70   |\n",
            "| California Institute of Technology, Pasadena                                  |65   |\n",
            "|null                                                                           |63   |\n",
            "| Siemens-Nixdorf AG                                                            |41   |\n",
            "| Mantis Consultants, Cambridge. UK.                                            |40   |\n",
            "| Case Western Reserve University                                               |39   |\n",
            "| Technical University Braunschweig, Germany                                    |35   |\n",
            "| Okcforum Unix Users Group                                                     |32   |\n",
            "| University of Illinois at Urbana                                              |32   |\n",
            "| Cornell Univ. CS Dept, Ithaca NY 14853                                        |25   |\n",
            "| Cookamunga Tourist Bureau                                                     |25   |\n",
            "| Princeton University                                                          |24   |\n",
            "| Allegheny College                                                             |24   |\n",
            "| Netcom Online Communications Services (408-241-9760 login: guest)             |23   |\n",
            "| Boston University Physics Department                                          |21   |\n",
            "| Tektronix Inc., Beaverton, Or.                                                |20   |\n",
            "| University of Illinois, Dept. of Comp. Sci., Urbana, IL                       |19   |\n",
            "| University of Denver, Dept. of Math & Comp. Sci.                              |18   |\n",
            "| Decision Support Inc.                                                         |17   |\n",
            "| Indiana University                                                            |17   |\n",
            "| University of Notre Dame - Office of Univ. Computing                          |17   |\n",
            "| IBM AIX/ESA Development, Kingston NY                                          |16   |\n",
            "| Macalester College                                                            |15   |\n",
            "| Monash University, Melb., Australia.                                          |14   |\n",
            "| Homewood Academic Computing, Johns Hopkins University, Baltimore, Md, USA     |14   |\n",
            "| Walla Walla College                                                           |14   |\n",
            "| University of Oulu, Finland                                                   |14   |\n",
            "| University of Pennsylvania, School of Arts and Sciences                       |14   |\n",
            "| AT&T                                                                          |13   |\n",
            "| University of Virginia                                                        |13   |\n",
            "| Adobe Systems Incorporated                                                    |13   |\n",
            "| Penn State University                                                         |13   |\n",
            "| Nottingham University                                                         |13   |\n",
            "| University of Chicago                                                         |12   |\n",
            "| DSG, Stanford University, CA 94305, USA                                       |12   |\n",
            "| University of Colorado, Boulder                                               |12   |\n",
            "| Department of Industrial Engineering                                          |12   |\n",
            "| Tektronix, Inc., Beaverton,  OR.                                              |11   |\n",
            "| American Software Development Corp., West Babylon, NY                         |11   |\n",
            "| Sponsored account, School of Computer Science, Carnegie Mellon, Pittsburgh, PA|11   |\n",
            "| Georgia Institute of Technology                                               |11   |\n",
            "| California Polytechnic State University, San Luis Obispo                      |10   |\n",
            "| Biochemistry                                                                  |10   |\n",
            "| Massachusetts Institute of Technology                                         |10   |\n",
            "| Kupajava, East of Krakatoa                                                    |9    |\n",
            "| University of Wisconsin Eau Claire                                            |9    |\n",
            "| University of Wisconsin, Madison -- Computer Sciences Dept.                   |9    |\n",
            "| Compaq Computer Corp                                                          |9    |\n",
            "| Virginia Commonwealth University                                              |9    |\n",
            "| JTC Enterprises Sports Division (Major League Baseball Dept.)                 |9    |\n",
            "+-------------------------------------------------------------------------------+-----+\n",
            "only showing top 50 rows\n",
            "\n"
          ]
        }
      ]
    },
    {
      "cell_type": "markdown",
      "source": [
        "Il y a 485 organisation différentes en tout (486-1 car les valeurs null sont comptées comme une catégorie):"
      ],
      "metadata": {
        "id": "tn4n45U2UKVa"
      }
    },
    {
      "cell_type": "code",
      "source": [
        "l = df.groupBy(\"organization\").count()\n",
        "l.count() # on compte le nombre de ligne du dataframe l"
      ],
      "metadata": {
        "colab": {
          "base_uri": "https://localhost:8080/"
        },
        "id": "YRK3O5QhuYpP",
        "outputId": "705ec24a-c0d1-4ba6-e04b-1e22ccce4dec"
      },
      "execution_count": 22,
      "outputs": [
        {
          "output_type": "execute_result",
          "data": {
            "text/plain": [
              "486"
            ]
          },
          "metadata": {},
          "execution_count": 22
        }
      ]
    },
    {
      "cell_type": "markdown",
      "source": [
        "####Les dates"
      ],
      "metadata": {
        "id": "d_O4esg5uzU-"
      }
    },
    {
      "cell_type": "markdown",
      "source": [
        "On s'interesse aux dates:"
      ],
      "metadata": {
        "id": "p0XYinosbnAz"
      }
    },
    {
      "cell_type": "code",
      "source": [
        "df.groupBy(\"date\").count().sort(desc(\"count\")).show(truncate=False)"
      ],
      "metadata": {
        "colab": {
          "base_uri": "https://localhost:8080/"
        },
        "id": "9ZkjL0JfXuBD",
        "outputId": "d8c53873-70ff-45d5-e3c6-5cf8336bf67c"
      },
      "execution_count": 23,
      "outputs": [
        {
          "output_type": "stream",
          "name": "stdout",
          "text": [
            "+--------------------------------+-----+\n",
            "|date                            |count|\n",
            "+--------------------------------+-----+\n",
            "| Mon, 26 Apr 1993 14:07:43 GMT  |2    |\n",
            "| Mon, 19 Apr 1993 03:37:10 GMT  |1    |\n",
            "| 15 Apr 93 22:34:57 GMT         |1    |\n",
            "| Tue, 6 Apr 1993 07:28:16 GMT   |1    |\n",
            "| 14 Apr 1993 08:42:51 -0500     |1    |\n",
            "| 20 Apr 93 22:40:40 GMT         |1    |\n",
            "| 6 Apr 1993 16:43:35 GMT        |1    |\n",
            "| 6 Apr 93 06:32:25 GMT          |1    |\n",
            "| Tue, 20 Apr 1993 18:13:59 GMT  |1    |\n",
            "| 20 Apr 93 19:11:44 -0600       |1    |\n",
            "| Tue, 20 Apr 1993 02:17:29 GMT  |1    |\n",
            "| 21 Apr 1993 21:29:27 GMT       |1    |\n",
            "| 25 Apr 93 11:26:11 EST         |1    |\n",
            "| 22 Apr 1993 20:52:13 GMT       |1    |\n",
            "| 16 Apr 93 00:14:51 GMT         |1    |\n",
            "| 26 Apr 1993 14:25:34 GMT       |1    |\n",
            "| Thu, 22 Apr 1993 00:50:03 GMT  |1    |\n",
            "| 23 Apr 93 23:07:34 GMT         |1    |\n",
            "| Wed, 21 Apr 1993 12:00:12 +0100|1    |\n",
            "| Thu, 22 Apr 1993 00:01:01 GMT  |1    |\n",
            "+--------------------------------+-----+\n",
            "only showing top 20 rows\n",
            "\n"
          ]
        }
      ]
    },
    {
      "cell_type": "markdown",
      "source": [
        "On consatate que tous les documents proviennent de l'année 1993 et du mois d'avril "
      ],
      "metadata": {
        "id": "8uveMKsebyUp"
      }
    },
    {
      "cell_type": "code",
      "source": [
        "a = df.filter(col(\"date\").contains(\"1993\"))\n",
        "a.count()"
      ],
      "metadata": {
        "colab": {
          "base_uri": "https://localhost:8080/"
        },
        "id": "IX9UXeC_U-C0",
        "outputId": "cd845ada-0c32-40d7-c74d-69cee500f3af"
      },
      "execution_count": 24,
      "outputs": [
        {
          "output_type": "execute_result",
          "data": {
            "text/plain": [
              "1373"
            ]
          },
          "metadata": {},
          "execution_count": 24
        }
      ]
    },
    {
      "cell_type": "code",
      "source": [
        "b = df.filter(col(\"date\").contains(\" 93\"))\n",
        "b.count()"
      ],
      "metadata": {
        "colab": {
          "base_uri": "https://localhost:8080/"
        },
        "id": "DARaMPfEX_k0",
        "outputId": "edef50c6-1038-45ed-8526-1ded006eef24"
      },
      "execution_count": 25,
      "outputs": [
        {
          "output_type": "execute_result",
          "data": {
            "text/plain": [
              "627"
            ]
          },
          "metadata": {},
          "execution_count": 25
        }
      ]
    },
    {
      "cell_type": "code",
      "source": [
        "c = df.filter(col(\"date\").contains(\"Apr\"))\n",
        "c.count()"
      ],
      "metadata": {
        "colab": {
          "base_uri": "https://localhost:8080/"
        },
        "id": "UQb_rTs4YJ9j",
        "outputId": "2eaa894d-1934-448e-d8cf-ea962a8080be"
      },
      "execution_count": 26,
      "outputs": [
        {
          "output_type": "execute_result",
          "data": {
            "text/plain": [
              "1989"
            ]
          },
          "metadata": {},
          "execution_count": 26
        }
      ]
    },
    {
      "cell_type": "markdown",
      "source": [
        "On s'interessse donc au nombre de documents par jour :"
      ],
      "metadata": {
        "id": "FEeinXVJc2l1"
      }
    },
    {
      "cell_type": "code",
      "source": [
        "for i in range(1, 31):\n",
        "  a = df.filter(col(\"date\").contains(\" \"+str(i)+\" \"))\n",
        "  print(\"Day \" + str(i) + \" : \" + str(a.count()))\n",
        "\n"
      ],
      "metadata": {
        "colab": {
          "base_uri": "https://localhost:8080/"
        },
        "id": "8FWB16OeZMuk",
        "outputId": "fd93e85f-a27e-4f30-9ab1-2357b5c8884a"
      },
      "execution_count": 27,
      "outputs": [
        {
          "output_type": "stream",
          "name": "stdout",
          "text": [
            "Day 1 : 3\n",
            "Day 2 : 16\n",
            "Day 3 : 13\n",
            "Day 4 : 10\n",
            "Day 5 : 117\n",
            "Day 6 : 196\n",
            "Day 7 : 2\n",
            "Day 8 : 0\n",
            "Day 9 : 0\n",
            "Day 10 : 0\n",
            "Day 11 : 2\n",
            "Day 12 : 2\n",
            "Day 13 : 3\n",
            "Day 14 : 9\n",
            "Day 15 : 235\n",
            "Day 16 : 333\n",
            "Day 17 : 60\n",
            "Day 18 : 38\n",
            "Day 19 : 65\n",
            "Day 20 : 301\n",
            "Day 21 : 251\n",
            "Day 22 : 56\n",
            "Day 23 : 199\n",
            "Day 24 : 25\n",
            "Day 25 : 14\n",
            "Day 26 : 37\n",
            "Day 27 : 5\n",
            "Day 28 : 1\n",
            "Day 29 : 1\n",
            "Day 30 : 1\n"
          ]
        }
      ]
    },
    {
      "cell_type": "markdown",
      "source": [
        "On voit que les jours ayant le plus de documents sont le 16, 20, 21 et 15, alors que le 8, 9 et 10 n'ont aucun document"
      ],
      "metadata": {
        "id": "YIVO69RWlArl"
      }
    },
    {
      "cell_type": "markdown",
      "source": [
        "####Nombre de lignes"
      ],
      "metadata": {
        "id": "L2Jamof_u9DI"
      }
    },
    {
      "cell_type": "markdown",
      "source": [
        "On a le nombre de lignes avec le plus d'occurences: 19 lignes"
      ],
      "metadata": {
        "id": "2wSgb8wkBhpW"
      }
    },
    {
      "cell_type": "code",
      "source": [
        "df.groupBy(\"nbLines\").count().sort(desc(\"count\")).show(truncate=False)"
      ],
      "metadata": {
        "colab": {
          "base_uri": "https://localhost:8080/"
        },
        "id": "zqUh8VCwu93h",
        "outputId": "81150aa9-c4a3-4e03-fa79-8e78a7a53a4f"
      },
      "execution_count": 28,
      "outputs": [
        {
          "output_type": "stream",
          "name": "stdout",
          "text": [
            "+-------+-----+\n",
            "|nbLines|count|\n",
            "+-------+-----+\n",
            "| 19    |74   |\n",
            "| 20    |60   |\n",
            "| 15    |59   |\n",
            "| 21    |59   |\n",
            "| 18    |59   |\n",
            "| 12    |57   |\n",
            "| 16    |56   |\n",
            "| 17    |56   |\n",
            "| 14    |56   |\n",
            "| 23    |55   |\n",
            "| 26    |50   |\n",
            "| 28    |49   |\n",
            "| 13    |48   |\n",
            "| 22    |46   |\n",
            "| 24    |43   |\n",
            "| 31    |40   |\n",
            "| 11    |39   |\n",
            "| 9     |38   |\n",
            "| 33    |38   |\n",
            "| 30    |37   |\n",
            "+-------+-----+\n",
            "only showing top 20 rows\n",
            "\n"
          ]
        }
      ]
    },
    {
      "cell_type": "markdown",
      "source": [
        "Le document ayant le plus de lignes a 99 lignes"
      ],
      "metadata": {
        "id": "f0fn-JLyB6sq"
      }
    },
    {
      "cell_type": "code",
      "source": [
        "df.groupBy(\"nbLines\").count().sort(desc(\"nbLines\")).show(truncate=False)"
      ],
      "metadata": {
        "colab": {
          "base_uri": "https://localhost:8080/"
        },
        "id": "ltr8e6mfAJFV",
        "outputId": "201491a6-1997-499e-a1c4-98c9d6f62a29"
      },
      "execution_count": 29,
      "outputs": [
        {
          "output_type": "stream",
          "name": "stdout",
          "text": [
            "+-------+-----+\n",
            "|nbLines|count|\n",
            "+-------+-----+\n",
            "|null   |6    |\n",
            "| 99    |1    |\n",
            "| 98    |3    |\n",
            "| 97    |2    |\n",
            "| 96    |4    |\n",
            "| 95    |2    |\n",
            "| 94    |2    |\n",
            "| 93    |5    |\n",
            "| 92    |1    |\n",
            "| 91    |1    |\n",
            "| 9     |38   |\n",
            "| 89    |5    |\n",
            "| 88    |5    |\n",
            "| 87    |4    |\n",
            "| 86    |2    |\n",
            "| 85    |2    |\n",
            "| 84    |1    |\n",
            "| 83    |3    |\n",
            "| 81    |2    |\n",
            "| 80    |6    |\n",
            "+-------+-----+\n",
            "only showing top 20 rows\n",
            "\n"
          ]
        }
      ]
    },
    {
      "cell_type": "markdown",
      "source": [
        "Les documents ont en moyenne 36,48 lignes"
      ],
      "metadata": {
        "id": "LoZ1uD_vxjJP"
      }
    },
    {
      "cell_type": "code",
      "source": [
        "df.select(mean(\"nbLines\")).show()"
      ],
      "metadata": {
        "colab": {
          "base_uri": "https://localhost:8080/"
        },
        "id": "LGJHewftwoaT",
        "outputId": "97cda49b-b8c5-41ff-f2cb-ce6551b7130d"
      },
      "execution_count": 30,
      "outputs": [
        {
          "output_type": "stream",
          "name": "stdout",
          "text": [
            "+-----------------+\n",
            "|     avg(nbLines)|\n",
            "+-----------------+\n",
            "|36.48294884653962|\n",
            "+-----------------+\n",
            "\n"
          ]
        }
      ]
    },
    {
      "cell_type": "markdown",
      "source": [
        "On installe la librairie pyspark_dist_explore pour pouvoir afficher l'histogramme pour la colone nombre de lignes"
      ],
      "metadata": {
        "id": "qnSBkQ_p1tf2"
      }
    },
    {
      "cell_type": "code",
      "source": [
        "!pip install pyspark_dist_explore"
      ],
      "metadata": {
        "colab": {
          "base_uri": "https://localhost:8080/"
        },
        "id": "AURdVw0Wy4hM",
        "outputId": "abc7332d-9835-4222-e2cd-d85f8e8dccd9"
      },
      "execution_count": 31,
      "outputs": [
        {
          "output_type": "stream",
          "name": "stdout",
          "text": [
            "Looking in indexes: https://pypi.org/simple, https://us-python.pkg.dev/colab-wheels/public/simple/\n",
            "Requirement already satisfied: pyspark_dist_explore in /usr/local/lib/python3.8/dist-packages (0.1.8)\n",
            "Requirement already satisfied: matplotlib in /usr/local/lib/python3.8/dist-packages (from pyspark_dist_explore) (3.5.3)\n",
            "Requirement already satisfied: numpy in /usr/local/lib/python3.8/dist-packages (from pyspark_dist_explore) (1.22.4)\n",
            "Requirement already satisfied: pandas in /usr/local/lib/python3.8/dist-packages (from pyspark_dist_explore) (1.3.5)\n",
            "Requirement already satisfied: scipy in /usr/local/lib/python3.8/dist-packages (from pyspark_dist_explore) (1.10.1)\n",
            "Requirement already satisfied: cycler>=0.10 in /usr/local/lib/python3.8/dist-packages (from matplotlib->pyspark_dist_explore) (0.11.0)\n",
            "Requirement already satisfied: packaging>=20.0 in /usr/local/lib/python3.8/dist-packages (from matplotlib->pyspark_dist_explore) (23.0)\n",
            "Requirement already satisfied: fonttools>=4.22.0 in /usr/local/lib/python3.8/dist-packages (from matplotlib->pyspark_dist_explore) (4.38.0)\n",
            "Requirement already satisfied: pyparsing>=2.2.1 in /usr/local/lib/python3.8/dist-packages (from matplotlib->pyspark_dist_explore) (3.0.9)\n",
            "Requirement already satisfied: kiwisolver>=1.0.1 in /usr/local/lib/python3.8/dist-packages (from matplotlib->pyspark_dist_explore) (1.4.4)\n",
            "Requirement already satisfied: python-dateutil>=2.7 in /usr/local/lib/python3.8/dist-packages (from matplotlib->pyspark_dist_explore) (2.8.2)\n",
            "Requirement already satisfied: pillow>=6.2.0 in /usr/local/lib/python3.8/dist-packages (from matplotlib->pyspark_dist_explore) (8.4.0)\n",
            "Requirement already satisfied: pytz>=2017.3 in /usr/local/lib/python3.8/dist-packages (from pandas->pyspark_dist_explore) (2022.7.1)\n",
            "Requirement already satisfied: six>=1.5 in /usr/local/lib/python3.8/dist-packages (from python-dateutil>=2.7->matplotlib->pyspark_dist_explore) (1.15.0)\n"
          ]
        }
      ]
    },
    {
      "cell_type": "markdown",
      "source": [
        "On obtient l'histogramme suivant:"
      ],
      "metadata": {
        "id": "YVxg2xKw2EDU"
      }
    },
    {
      "cell_type": "code",
      "source": [
        "from pyspark_dist_explore import hist\n",
        "import matplotlib.pyplot as plt\n",
        "\n",
        "changedTypedf = df.withColumn(\"nbLines\", df[\"nbLines\"].cast(\"double\"))\n",
        "\n",
        "fig, ax = plt.subplots(figsize=(8,4))\n",
        "hist(ax, changedTypedf.select(\"nbLines\"), bins = 100, color=['blue'])"
      ],
      "metadata": {
        "colab": {
          "base_uri": "https://localhost:8080/",
          "height": 820
        },
        "id": "XcwjVazJyiix",
        "outputId": "a55e3968-44c7-4a53-92b6-adae2ffba5a5"
      },
      "execution_count": 32,
      "outputs": [
        {
          "output_type": "execute_result",
          "data": {
            "text/plain": [
              "(array([243., 584., 451., 256., 152.,  84.,  54.,  37.,  29.,  21.,  12.,\n",
              "         17.,   8.,   7.,   4.,   4.,   2.,   4.,   4.,   3.,   1.,   2.,\n",
              "          2.,   2.,   0.,   0.,   1.,   1.,   1.,   0.,   1.,   0.,   1.,\n",
              "          0.,   0.,   0.,   1.,   0.,   1.,   0.,   0.,   0.,   0.,   0.,\n",
              "          0.,   0.,   0.,   0.,   0.,   0.,   0.,   0.,   0.,   0.,   0.,\n",
              "          0.,   0.,   0.,   0.,   0.,   1.,   1.,   0.,   0.,   0.,   0.,\n",
              "          0.,   0.,   0.,   1.,   0.,   0.,   0.,   0.,   0.,   0.,   0.,\n",
              "          0.,   0.,   0.,   0.,   0.,   0.,   0.,   0.,   0.,   0.,   0.,\n",
              "          0.,   0.,   0.,   0.,   0.,   0.,   0.,   0.,   0.,   0.,   0.,\n",
              "          1.]),\n",
              " array([1.00000e+00, 1.14800e+01, 2.19600e+01, 3.24400e+01, 4.29200e+01,\n",
              "        5.34000e+01, 6.38800e+01, 7.43600e+01, 8.48400e+01, 9.53200e+01,\n",
              "        1.05800e+02, 1.16280e+02, 1.26760e+02, 1.37240e+02, 1.47720e+02,\n",
              "        1.58200e+02, 1.68680e+02, 1.79160e+02, 1.89640e+02, 2.00120e+02,\n",
              "        2.10600e+02, 2.21080e+02, 2.31560e+02, 2.42040e+02, 2.52520e+02,\n",
              "        2.63000e+02, 2.73480e+02, 2.83960e+02, 2.94440e+02, 3.04920e+02,\n",
              "        3.15400e+02, 3.25880e+02, 3.36360e+02, 3.46840e+02, 3.57320e+02,\n",
              "        3.67800e+02, 3.78280e+02, 3.88760e+02, 3.99240e+02, 4.09720e+02,\n",
              "        4.20200e+02, 4.30680e+02, 4.41160e+02, 4.51640e+02, 4.62120e+02,\n",
              "        4.72600e+02, 4.83080e+02, 4.93560e+02, 5.04040e+02, 5.14520e+02,\n",
              "        5.25000e+02, 5.35480e+02, 5.45960e+02, 5.56440e+02, 5.66920e+02,\n",
              "        5.77400e+02, 5.87880e+02, 5.98360e+02, 6.08840e+02, 6.19320e+02,\n",
              "        6.29800e+02, 6.40280e+02, 6.50760e+02, 6.61240e+02, 6.71720e+02,\n",
              "        6.82200e+02, 6.92680e+02, 7.03160e+02, 7.13640e+02, 7.24120e+02,\n",
              "        7.34600e+02, 7.45080e+02, 7.55560e+02, 7.66040e+02, 7.76520e+02,\n",
              "        7.87000e+02, 7.97480e+02, 8.07960e+02, 8.18440e+02, 8.28920e+02,\n",
              "        8.39400e+02, 8.49880e+02, 8.60360e+02, 8.70840e+02, 8.81320e+02,\n",
              "        8.91800e+02, 9.02280e+02, 9.12760e+02, 9.23240e+02, 9.33720e+02,\n",
              "        9.44200e+02, 9.54680e+02, 9.65160e+02, 9.75640e+02, 9.86120e+02,\n",
              "        9.96600e+02, 1.00708e+03, 1.01756e+03, 1.02804e+03, 1.03852e+03,\n",
              "        1.04900e+03]),\n",
              " <BarContainer object of 100 artists>)"
            ]
          },
          "metadata": {},
          "execution_count": 32
        },
        {
          "output_type": "display_data",
          "data": {
            "text/plain": [
              "<Figure size 576x288 with 1 Axes>"
            ],
            "image/png": "[encoded data removed]"
          },
          "metadata": {
            "needs_background": "light"
          }
        }
      ]
    },
    {
      "cell_type": "markdown",
      "source": [
        "###IV) Transformation du texte"
      ],
      "metadata": {
        "id": "h-aZP9VglzHr"
      }
    },
    {
      "cell_type": "markdown",
      "source": [
        "####Découpage des documents en listes de mots à l’aide de Tokenizer"
      ],
      "metadata": {
        "id": "aBDp2j85pu98"
      }
    },
    {
      "cell_type": "code",
      "source": [
        "from pyspark.ml.feature import HashingTF, IDF, Tokenizer\n",
        "\n",
        "rdd1 = sc.wholeTextFiles(\"/content/20_newsgroups/alt.atheism\")\n",
        "rdd2 = sc.wholeTextFiles(\"/content/20_newsgroups/rec.sport.baseball\")\n",
        "rdd = rdd1.union(rdd2)\n",
        "\n",
        "columns = [\"id\", \"document\"]\n",
        "df = spark.createDataFrame(data=rdd, schema = columns)\n",
        "\n",
        "tokenizer = Tokenizer(inputCol=\"document\", outputCol=\"words\")\n",
        "wordsData = tokenizer.transform(df)"
      ],
      "metadata": {
        "id": "yi47sEGd0jE7"
      },
      "execution_count": 33,
      "outputs": []
    },
    {
      "cell_type": "markdown",
      "source": [
        "####Création d'une représentation vectorielle des documents à l’aide de HashingTF\n"
      ],
      "metadata": {
        "id": "G9MU6GrIp33e"
      }
    },
    {
      "cell_type": "markdown",
      "source": [
        "Pour que la fonction hashingTF marche bien (qu'il y ait le moins de collisions possible),  il faut prendre un nombre de features plus élevé que la taille du vocabulaire"
      ],
      "metadata": {
        "id": "Py1PHJY_5_nM"
      }
    },
    {
      "cell_type": "markdown",
      "source": [
        "En moyenne on a 36 lignes par document, si on considère qu'il y a 15 mots par lignes cela fait 540 mots.\n",
        "Il faut aussi prendre en considération qu'il y a des répétition de mots et que certains documents ont presque une centaine de lignes.\n"
      ],
      "metadata": {
        "id": "GZpJlv_UCMWk"
      }
    },
    {
      "cell_type": "markdown",
      "source": [
        "Donc on chosit 3000"
      ],
      "metadata": {
        "id": "dOrJQU-WCZwN"
      }
    },
    {
      "cell_type": "code",
      "source": [
        "hashingTF = HashingTF(inputCol=\"words\", outputCol=\"features\", numFeatures=3000)\n",
        "featurizedData = hashingTF.transform(wordsData)\n",
        "\n",
        "featurizedData.select(\"id\", \"features\").show(20, 50)"
      ],
      "metadata": {
        "id": "1r71yCTJp4fJ",
        "colab": {
          "base_uri": "https://localhost:8080/"
        },
        "outputId": "558b2cfd-c241-42b3-ae05-bce926f25425"
      },
      "execution_count": 34,
      "outputs": [
        {
          "output_type": "stream",
          "name": "stdout",
          "text": [
            "+---------------------------------------------+--------------------------------------------------+\n",
            "|                                           id|                                          features|\n",
            "+---------------------------------------------+--------------------------------------------------+\n",
            "|file:/content/20_newsgroups/alt.atheism/51169|(3000,[17,54,66,84,113,131,139,145,183,198,231,...|\n",
            "|file:/content/20_newsgroups/alt.atheism/51162|(3000,[8,17,18,23,31,34,42,52,54,64,66,71,73,13...|\n",
            "|file:/content/20_newsgroups/alt.atheism/51224|(3000,[17,31,54,66,73,76,110,120,131,132,133,13...|\n",
            "|file:/content/20_newsgroups/alt.atheism/54184|(3000,[12,17,23,26,43,46,53,54,109,118,121,139,...|\n",
            "|file:/content/20_newsgroups/alt.atheism/51310|(3000,[15,17,24,54,139,145,148,177,201,261,263,...|\n",
            "|file:/content/20_newsgroups/alt.atheism/53561|(3000,[2,5,17,23,37,46,54,66,84,107,120,135,139...|\n",
            "|file:/content/20_newsgroups/alt.atheism/54251|(3000,[12,15,17,54,58,116,133,139,145,263,289,3...|\n",
            "|file:/content/20_newsgroups/alt.atheism/54202|(3000,[8,17,25,54,56,115,139,145,146,161,189,21...|\n",
            "|file:/content/20_newsgroups/alt.atheism/51204|(3000,[10,17,26,38,54,129,133,139,145,201,261,3...|\n",
            "|file:/content/20_newsgroups/alt.atheism/53643|(3000,[8,17,39,46,54,66,77,82,101,133,138,139,1...|\n",
            "|file:/content/20_newsgroups/alt.atheism/53544|(3000,[3,17,23,28,31,32,54,56,75,89,131,139,145...|\n",
            "|file:/content/20_newsgroups/alt.atheism/53166|(3000,[17,54,70,115,139,145,151,218,263,272,299...|\n",
            "|file:/content/20_newsgroups/alt.atheism/53179|(3000,[15,17,24,39,46,48,54,61,66,76,97,117,120...|\n",
            "|file:/content/20_newsgroups/alt.atheism/53502|(3000,[13,17,23,31,46,54,70,89,93,133,135,139,1...|\n",
            "|file:/content/20_newsgroups/alt.atheism/53382|(3000,[15,17,23,37,39,54,71,84,90,112,115,119,1...|\n",
            "|file:/content/20_newsgroups/alt.atheism/53221|(3000,[12,15,17,54,139,143,145,227,261,276,289,...|\n",
            "|file:/content/20_newsgroups/alt.atheism/51317|(3000,[54,139,145,335,338,372,422,437,495,521,5...|\n",
            "|file:/content/20_newsgroups/alt.atheism/54243|(3000,[17,26,54,55,108,113,121,139,145,180,206,...|\n",
            "|file:/content/20_newsgroups/alt.atheism/54132|(3000,[16,17,26,54,61,76,93,97,110,132,139,142,...|\n",
            "|file:/content/20_newsgroups/alt.atheism/53160|(3000,[0,7,10,13,17,54,87,133,135,139,141,196,2...|\n",
            "+---------------------------------------------+--------------------------------------------------+\n",
            "only showing top 20 rows\n",
            "\n"
          ]
        }
      ]
    },
    {
      "cell_type": "markdown",
      "source": [
        "###V) Grouper les documents qui ont des représentations vectorielles proches\n",
        "\n",
        "\n",
        "\n"
      ],
      "metadata": {
        "id": "nYggQC8DqIgo"
      }
    },
    {
      "cell_type": "markdown",
      "source": [
        "####KMeans"
      ],
      "metadata": {
        "id": "fBe2u_VwqRl0"
      }
    },
    {
      "cell_type": "code",
      "source": [
        "from pyspark.ml.clustering import KMeans\n",
        "from pyspark.ml.evaluation import ClusteringEvaluator\n",
        "\n",
        "# Trains a k-means model\n",
        "#On prend k = 2 clusters\n",
        "kmeans = KMeans().setK(2).setSeed(1)\n",
        "model = kmeans.fit(featurizedData)\n",
        "\n",
        "# Make predictions\n",
        "predictions = model.transform(featurizedData)\n",
        "\n",
        "# Evaluate clustering by computing Silhouette score\n",
        "evaluator = ClusteringEvaluator()\n",
        "\n",
        "silhouette = evaluator.evaluate(predictions)\n",
        "print(\"Silhouette with squared euclidean distance = \" + str(silhouette))\n",
        "\n",
        "# Shows the result.\n",
        "centers = model.clusterCenters()\n",
        "print(\"Cluster Centers: \")\n",
        "for center in centers:\n",
        "    print(center)"
      ],
      "metadata": {
        "id": "mRSUS_H7qWS9",
        "colab": {
          "base_uri": "https://localhost:8080/"
        },
        "outputId": "bb82b3d3-2d98-450e-f2ce-5ac5b3bd7f48"
      },
      "execution_count": 35,
      "outputs": [
        {
          "output_type": "stream",
          "name": "stdout",
          "text": [
            "Silhouette with squared euclidean distance = 0.996158234766001\n",
            "Cluster Centers: \n",
            "[0.08471178 0.02907268 0.03558897 ... 0.03308271 0.05263158 0.02556391]\n",
            "[0.8 0.4 0.  ... 0.6 1.  0.6]\n"
          ]
        }
      ]
    },
    {
      "cell_type": "markdown",
      "source": [
        "**On obtient un score Silhouette de 0.99616, ce qui est très proche de 1. Cela veut donc dire que les documents ont été rangés dans le bon cluster**"
      ],
      "metadata": {
        "id": "MPcQ1NJ0CuAE"
      }
    },
    {
      "cell_type": "markdown",
      "source": [
        "###VI)  Pour aller plus loin"
      ],
      "metadata": {
        "id": "yXHcd9Ds1Bud"
      }
    },
    {
      "cell_type": "markdown",
      "source": [
        "####Pondérer les mots avec la formule Tf-Idf (avant KMeans)"
      ],
      "metadata": {
        "id": "260qMS_c1QlX"
      }
    },
    {
      "cell_type": "code",
      "source": [
        "from pyspark.ml.feature import HashingTF, IDF, Tokenizer\n",
        "\n",
        "rdd1 = sc.wholeTextFiles(\"/content/20_newsgroups/alt.atheism\")\n",
        "rdd2 = sc.wholeTextFiles(\"/content/20_newsgroups/rec.sport.baseball\")\n",
        "rdd = rdd1.union(rdd2)\n",
        "\n",
        "columns = [\"id\", \"document\"]\n",
        "df = spark.createDataFrame(data=rdd, schema = columns)\n",
        "\n",
        "tokenizer = Tokenizer(inputCol=\"document\", outputCol=\"words\")\n",
        "wordsData = tokenizer.transform(df)\n",
        "\n",
        "hashingTF = HashingTF(inputCol=\"words\", outputCol=\"rawFeatures\", numFeatures=3000) #On prend 3000 comme précédemment\n",
        "featurizedData = hashingTF.transform(wordsData)\n",
        "\n",
        "idf = IDF(inputCol=\"rawFeatures\", outputCol=\"features\")\n",
        "idfModel = idf.fit(featurizedData)\n",
        "rescaledData = idfModel.transform(featurizedData)\n",
        "\n",
        "rescaledData.select(\"id\", \"features\").show(20, 50)"
      ],
      "metadata": {
        "colab": {
          "base_uri": "https://localhost:8080/"
        },
        "id": "1jeyYkaF1CfO",
        "outputId": "a262d42e-aff6-4f09-9c1a-ec723cf3cb01"
      },
      "execution_count": 36,
      "outputs": [
        {
          "output_type": "stream",
          "name": "stdout",
          "text": [
            "+---------------------------------------------+--------------------------------------------------+\n",
            "|                                           id|                                          features|\n",
            "+---------------------------------------------+--------------------------------------------------+\n",
            "|file:/content/20_newsgroups/alt.atheism/51169|(3000,[17,54,66,84,113,131,139,145,183,198,231,...|\n",
            "|file:/content/20_newsgroups/alt.atheism/51162|(3000,[8,17,18,23,31,34,42,52,54,64,66,71,73,13...|\n",
            "|file:/content/20_newsgroups/alt.atheism/51224|(3000,[17,31,54,66,73,76,110,120,131,132,133,13...|\n",
            "|file:/content/20_newsgroups/alt.atheism/54184|(3000,[12,17,23,26,43,46,53,54,109,118,121,139,...|\n",
            "|file:/content/20_newsgroups/alt.atheism/51310|(3000,[15,17,24,54,139,145,148,177,201,261,263,...|\n",
            "|file:/content/20_newsgroups/alt.atheism/53561|(3000,[2,5,17,23,37,46,54,66,84,107,120,135,139...|\n",
            "|file:/content/20_newsgroups/alt.atheism/54251|(3000,[12,15,17,54,58,116,133,139,145,263,289,3...|\n",
            "|file:/content/20_newsgroups/alt.atheism/54202|(3000,[8,17,25,54,56,115,139,145,146,161,189,21...|\n",
            "|file:/content/20_newsgroups/alt.atheism/51204|(3000,[10,17,26,38,54,129,133,139,145,201,261,3...|\n",
            "|file:/content/20_newsgroups/alt.atheism/53643|(3000,[8,17,39,46,54,66,77,82,101,133,138,139,1...|\n",
            "|file:/content/20_newsgroups/alt.atheism/53544|(3000,[3,17,23,28,31,32,54,56,75,89,131,139,145...|\n",
            "|file:/content/20_newsgroups/alt.atheism/53166|(3000,[17,54,70,115,139,145,151,218,263,272,299...|\n",
            "|file:/content/20_newsgroups/alt.atheism/53179|(3000,[15,17,24,39,46,48,54,61,66,76,97,117,120...|\n",
            "|file:/content/20_newsgroups/alt.atheism/53502|(3000,[13,17,23,31,46,54,70,89,93,133,135,139,1...|\n",
            "|file:/content/20_newsgroups/alt.atheism/53382|(3000,[15,17,23,37,39,54,71,84,90,112,115,119,1...|\n",
            "|file:/content/20_newsgroups/alt.atheism/53221|(3000,[12,15,17,54,139,143,145,227,261,276,289,...|\n",
            "|file:/content/20_newsgroups/alt.atheism/51317|(3000,[54,139,145,335,338,372,422,437,495,521,5...|\n",
            "|file:/content/20_newsgroups/alt.atheism/54243|(3000,[17,26,54,55,108,113,121,139,145,180,206,...|\n",
            "|file:/content/20_newsgroups/alt.atheism/54132|(3000,[16,17,26,54,61,76,93,97,110,132,139,142,...|\n",
            "|file:/content/20_newsgroups/alt.atheism/53160|(3000,[0,7,10,13,17,54,87,133,135,139,141,196,2...|\n",
            "+---------------------------------------------+--------------------------------------------------+\n",
            "only showing top 20 rows\n",
            "\n"
          ]
        }
      ]
    },
    {
      "cell_type": "code",
      "source": [
        "from pyspark.ml.clustering import KMeans\n",
        "from pyspark.ml.evaluation import ClusteringEvaluator\n",
        "\n",
        "# Trains a k-means model.\n",
        "kmeans = KMeans().setK(2).setSeed(1)\n",
        "model = kmeans.fit(rescaledData)\n",
        "\n",
        "# Make predictions\n",
        "predictions = model.transform(rescaledData)\n",
        "\n",
        "# Evaluate clustering by computing Silhouette score\n",
        "evaluator = ClusteringEvaluator()\n",
        "\n",
        "silhouette = evaluator.evaluate(predictions)\n",
        "print(\"Silhouette with squared euclidean distance = \" + str(silhouette))\n",
        "\n",
        "# Shows the result.\n",
        "centers = model.clusterCenters()\n",
        "print(\"Cluster Centers: \")\n",
        "for center in centers:\n",
        "    print(center)"
      ],
      "metadata": {
        "colab": {
          "base_uri": "https://localhost:8080/"
        },
        "outputId": "8b0144d7-c47c-40fd-acf5-551ea35943e5",
        "id": "AUY1uQ4F1mT5"
      },
      "execution_count": 37,
      "outputs": [
        {
          "output_type": "stream",
          "name": "stdout",
          "text": [
            "Silhouette with squared euclidean distance = 0.8877214786525272\n",
            "Cluster Centers: \n",
            "[0.19992392 0.09666459 0.11789873 ... 0.10376763 0.14577345 0.08986133]\n",
            "[1.28218566 0.50833587 0.51343845 ... 0.78358802 1.06097609 0.5328859 ]\n"
          ]
        }
      ]
    },
    {
      "cell_type": "markdown",
      "source": [
        "On constate qu'on obtient un score de 0.8877, toujours proche de 1 mais pire que le score précédent. Cela semble bizarre car normalement en donnant moins d'importance aux mots communs cela devrait améliorer le resultat du Kmeans"
      ],
      "metadata": {
        "id": "acGR-jhIGVLu"
      }
    }
  ]
}